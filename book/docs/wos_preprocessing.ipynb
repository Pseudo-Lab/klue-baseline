{
 "cells": [
  {
   "cell_type": "markdown",
   "metadata": {},
   "source": [
    "# wos 데이터 살펴보기\n",
    "- klue 내 DST(Dialogue State Tracking) task를 이해하기 위함\n",
    "- DST task에 사용되는 데이터셋은 wos dataset이며, klue에서 한글버전으로 만들어짐\n",
    "- dst task를 구성하기 위해 어떻게 input data를 구성하는지 살펴봄\n",
    "- klue-base line 기준"
   ]
  },
  {
   "cell_type": "code",
   "execution_count": 4,
   "metadata": {
    "ExecuteTime": {
     "end_time": "2021-09-11T08:52:05.035516Z",
     "start_time": "2021-09-11T08:52:05.025571Z"
    }
   },
   "outputs": [],
   "source": [
    "import argparse\n",
    "import json\n",
    "import logging\n",
    "import os"
   ]
  },
  {
   "cell_type": "code",
   "execution_count": 32,
   "metadata": {
    "ExecuteTime": {
     "end_time": "2021-09-11T09:30:26.587791Z",
     "start_time": "2021-09-11T09:30:26.577844Z"
    }
   },
   "outputs": [],
   "source": [
    "from transformers import AutoTokenizer\n",
    "from klue_baseline import KLUE_TASKS\n",
    "from klue_baseline.data import DataProcessor, KlueDataModule, WoSProcessor\n",
    "from klue_baseline.models import BaseTransformer, Mode, DPTransformer, DSTTransformer\n",
    "from klue_baseline.utils import Command\n",
    "from klue_baseline.metrics import WoS_JGA, WoS_SlotMicroF1"
   ]
  },
  {
   "cell_type": "markdown",
   "metadata": {},
   "source": [
    "## Initialize"
   ]
  },
  {
   "cell_type": "code",
   "execution_count": 6,
   "metadata": {
    "ExecuteTime": {
     "end_time": "2021-09-11T08:59:57.962139Z",
     "start_time": "2021-09-11T08:59:57.948202Z"
    }
   },
   "outputs": [],
   "source": [
    "args = argparse.Namespace(\n",
    "    accumulate_grad_batches=1, \n",
    "    adafactor=False, \n",
    "    adam_epsilon=1e-08, \n",
    "    attention_dropout=None, \n",
    "    cache_dir='', \n",
    "    command='train', \n",
    "    config_name='', \n",
    "    data_dir='./wos', \n",
    "    decoder_layerdrop=None, \n",
    "    dev_file_name=None, \n",
    "    dropout=None, \n",
    "    early_stopping_mode='max', \n",
    "    encoder_layerdrop=None, \n",
    "    eval_batch_size=16, \n",
    "    fp16=False, \n",
    "    gpus=None, \n",
    "    gradient_clip_val=1.0, \n",
    "    learning_rate=3e-05, \n",
    "    lr_scheduler='linear', \n",
    "    max_epochs=5, \n",
    "    max_seq_length=510, \n",
    "    metric_key='slot_micro_f1', \n",
    "    model_name_or_path='./monologg/koelectra-base-v3-discriminator', \n",
    "    num_sanity_val_steps=2, \n",
    "    num_workers=4, \n",
    "    ontology_path='', \n",
    "    output_dir='./wos/wos_output', \n",
    "    parallel_decoding=True, \n",
    "    patience=100000, \n",
    "    seed=42, \n",
    "    task='wos', \n",
    "    teacher_forcing=0.5, \n",
    "    test_file_name=None, \n",
    "    tokenizer_name=None, \n",
    "    tpu_cores=None, \n",
    "    train_batch_size=16, \n",
    "    train_file_name=None, \n",
    "    truncate=True, \n",
    "    verbose_step_count=100, \n",
    "    warmup_ratio=0.1, \n",
    "    warmup_steps=None, \n",
    "    weight_decay=0.01\n",
    ")"
   ]
  },
  {
   "cell_type": "markdown",
   "metadata": {},
   "source": [
    "## vocab file load"
   ]
  },
  {
   "cell_type": "code",
   "execution_count": 68,
   "metadata": {
    "ExecuteTime": {
     "end_time": "2021-09-11T09:51:08.968757Z",
     "start_time": "2021-09-11T09:51:08.946809Z"
    }
   },
   "outputs": [],
   "source": [
    "f = open('./vocab.txt', 'r', encoding='utf8')\n",
    "text = f.readlines()\n",
    "text = [i.replace('\\n','') for i in text]"
   ]
  },
  {
   "cell_type": "code",
   "execution_count": 78,
   "metadata": {
    "ExecuteTime": {
     "end_time": "2021-09-11T09:53:41.597767Z",
     "start_time": "2021-09-11T09:53:41.588791Z"
    }
   },
   "outputs": [],
   "source": [
    "with open('./wos/ontology.json', encoding='utf8') as json_file:\n",
    "    json_data = json.load(json_file)"
   ]
  },
  {
   "cell_type": "code",
   "execution_count": 88,
   "metadata": {
    "ExecuteTime": {
     "end_time": "2021-09-11T09:55:47.857274Z",
     "start_time": "2021-09-11T09:55:47.852287Z"
    }
   },
   "outputs": [
    {
     "name": "stdout",
     "output_type": "stream",
     "text": [
      "미리 ontology로 정의된 state ['관광-경치 좋은', '관광-교육적', '관광-도보 가능', '관광-문화 예술', '관광-역사적']\n",
      "\n",
      "ontology 예시 : 관광-종류 ['none', 'dontcare', '공원', '박물관', '공연', '즐길거리', '랜드마크', '쇼핑', '여행자 자료', '기타', '놀이공원', '동물원', '교통편']\n"
     ]
    }
   ],
   "source": [
    "print('미리 ontology로 정의된 state', list(json_data)[0:5], end='\\n\\n')\n",
    "print('ontology 예시 : 관광-종류', json_data['관광-종류'])"
   ]
  },
  {
   "cell_type": "markdown",
   "metadata": {},
   "source": [
    "## dataloader make"
   ]
  },
  {
   "cell_type": "code",
   "execution_count": 23,
   "metadata": {
    "ExecuteTime": {
     "end_time": "2021-09-11T09:18:14.898115Z",
     "start_time": "2021-09-11T09:18:14.889137Z"
    }
   },
   "outputs": [],
   "source": [
    "task = KlueTask(\n",
    "        WoSProcessor,\n",
    "        DSTTransformer,\n",
    "        {\"joint_goal_acc\": WoS_JGA, \"slot_micro_f1\": WoS_SlotMicroF1}\n",
    ")\n",
    "\n",
    "task.setup(args, args.command)"
   ]
  },
  {
   "cell_type": "code",
   "execution_count": 35,
   "metadata": {
    "ExecuteTime": {
     "end_time": "2021-09-11T09:34:22.550488Z",
     "start_time": "2021-09-11T09:34:22.546498Z"
    },
    "scrolled": true
   },
   "outputs": [
    {
     "data": {
      "text/plain": [
       "'wos-v1_train_00000-0'"
      ]
     },
     "execution_count": 35,
     "metadata": {},
     "output_type": "execute_result"
    }
   ],
   "source": [
    "task.train_loader.dataset.features[0].guid"
   ]
  },
  {
   "cell_type": "code",
   "execution_count": null,
   "metadata": {
    "ExecuteTime": {
     "end_time": "2021-09-11T09:44:49.378745Z",
     "start_time": "2021-09-11T09:44:49.361791Z"
    }
   },
   "outputs": [],
   "source": [
    "'''\n",
    "\"guid\": \"wos-v1_train_00000\",\n",
    "\"domains\": [\n",
    "    \"관광\",\n",
    "    \"식당\"\n",
    "],\n",
    "\"dialogue\": [\n",
    "    {\n",
    "        \"role\": \"user\",\n",
    "        \"text\": \"서울 중앙에 있는 박물관을 찾아주세요\",\n",
    "        \"state\": [\n",
    "            \"관광-종류-박물관\",\n",
    "            \"관광-지역-서울 중앙\"\n",
    "        ]\n",
    "    },\n",
    "    {\n",
    "        \"role\": \"sys\",\n",
    "        \"text\": \"안녕하세요. 문화역서울 284은 어떠신가요? 평점도 4점으로 방문객들에게 좋은 평가를 받고 있습니다.\"\n",
    "    },\n",
    "    {\n",
    "        \"role\": \"user\",\n",
    "        \"text\": \"좋네요 거기 평점은 말해주셨구 전화번호가 어떻게되나요?\",\n",
    "        \"state\": [\n",
    "            \"관광-종류-박물관\",\n",
    "            \"관광-지역-서울 중앙\",\n",
    "            \"관광-이름-문화역서울 284\"\n",
    "        ]\n",
    "    },\n",
    "    {\n",
    "        \"role\": \"sys\",\n",
    "        \"text\": \"전화번호는 983880764입니다. 더 필요하신 게 있으실까요?\"\n",
    "    }\n",
    "'''"
   ]
  },
  {
   "cell_type": "code",
   "execution_count": 92,
   "metadata": {
    "ExecuteTime": {
     "end_time": "2021-09-11T10:08:34.745500Z",
     "start_time": "2021-09-11T10:08:34.730539Z"
    }
   },
   "outputs": [
    {
     "name": "stdout",
     "output_type": "stream",
     "text": [
      "BERT input\n",
      "input id [2, 3, 3, 6265, 6672, 4073, 3249, 4034, 8732, 4292, 6722, 4076, 8553, 3]\n",
      "input to vocab ['[CLS]', '[SEP]', '[SEP]', '서울', '중앙', '##에', '있', '##는', '박물관', '##을', '찾아', '##주', '##세요', '[SEP]']\n"
     ]
    }
   ],
   "source": [
    "print('BERT input')\n",
    "print('input id', task.train_loader.dataset.features[0].input_id)\n",
    "print('input to vocab', [text[i] for i in task.train_loader.dataset.features[0].input_id])"
   ]
  },
  {
   "cell_type": "markdown",
   "metadata": {},
   "source": [
    "### 맞추어야 할 정답 slot"
   ]
  },
  {
   "cell_type": "code",
   "execution_count": 89,
   "metadata": {
    "ExecuteTime": {
     "end_time": "2021-09-11T09:59:08.887835Z",
     "start_time": "2021-09-11T09:59:08.874890Z"
    }
   },
   "outputs": [
    {
     "name": "stdout",
     "output_type": "stream",
     "text": [
      "미리 ontology로 정의된 슬롯 45개 중 정답 state가 있는 위치\n",
      "gating id [0, 0, 0, 0, 0, 0, 2, 0, 2, 0, 0, 0, 0, 0, 0, 0, 0, 0, 0, 0, 0, 0, 0, 0, 0, 0, 0, 0, 0, 0, 0, 0, 0, 0, 0, 0, 0, 0, 0, 0, 0, 0, 0, 0, 0]\n"
     ]
    }
   ],
   "source": [
    "print('미리 ontology로 정의된 슬롯 45개 중 정답 slot 예측')\n",
    "print('gating ids', task.train_loader.dataset.features[0].gating_id)"
   ]
  },
  {
   "cell_type": "code",
   "execution_count": null,
   "metadata": {},
   "outputs": [],
   "source": [
    "target_ids_0 = []\n",
    "for slot in task.train_loader.dataset.features[0].target_ids:\n",
    "    slot_token = []\n",
    "    for token in slot :\n",
    "        slot_token.append(text[token])\n",
    "    target_ids_0.append(slot_token)"
   ]
  },
  {
   "cell_type": "markdown",
   "metadata": {},
   "source": [
    "### 맞추어야 할 token slot"
   ]
  },
  {
   "cell_type": "code",
   "execution_count": 99,
   "metadata": {
    "ExecuteTime": {
     "end_time": "2021-09-11T10:12:10.493149Z",
     "start_time": "2021-09-11T10:12:10.474632Z"
    }
   },
   "outputs": [
    {
     "name": "stdout",
     "output_type": "stream",
     "text": [
      "미리 ontology로 정의된 슬롯 45개 중 정답 token 예측\n",
      "target ids [[21832, 11764, 3], [21832, 11764, 3], [21832, 11764, 3], [21832, 11764, 3], [21832, 11764, 3], [21832, 11764, 3], [8732, 3, 0], [21832, 11764, 3], [6265, 6672, 3], [21832, 11764, 3], [21832, 11764, 3], [21832, 11764, 3], [21832, 11764, 3], [21832, 11764, 3], [21832, 11764, 3], [21832, 11764, 3], [21832, 11764, 3], [21832, 11764, 3], [21832, 11764, 3], [21832, 11764, 3], [21832, 11764, 3], [21832, 11764, 3], [21832, 11764, 3], [21832, 11764, 3], [21832, 11764, 3], [21832, 11764, 3], [21832, 11764, 3], [21832, 11764, 3], [21832, 11764, 3], [21832, 11764, 3], [21832, 11764, 3], [21832, 11764, 3], [21832, 11764, 3], [21832, 11764, 3], [21832, 11764, 3], [21832, 11764, 3], [21832, 11764, 3], [21832, 11764, 3], [21832, 11764, 3], [21832, 11764, 3], [21832, 11764, 3], [21832, 11764, 3], [21832, 11764, 3], [21832, 11764, 3], [21832, 11764, 3]]\n",
      "\n",
      "target ids to vocab [['no', '##ne', '[SEP]'], ['no', '##ne', '[SEP]'], ['no', '##ne', '[SEP]'], ['no', '##ne', '[SEP]'], ['no', '##ne', '[SEP]'], ['no', '##ne', '[SEP]'], ['박물관', '[SEP]', '[PAD]'], ['no', '##ne', '[SEP]'], ['서울', '중앙', '[SEP]'], ['no', '##ne', '[SEP]'], ['no', '##ne', '[SEP]'], ['no', '##ne', '[SEP]'], ['no', '##ne', '[SEP]'], ['no', '##ne', '[SEP]'], ['no', '##ne', '[SEP]'], ['no', '##ne', '[SEP]'], ['no', '##ne', '[SEP]'], ['no', '##ne', '[SEP]'], ['no', '##ne', '[SEP]'], ['no', '##ne', '[SEP]'], ['no', '##ne', '[SEP]'], ['no', '##ne', '[SEP]'], ['no', '##ne', '[SEP]'], ['no', '##ne', '[SEP]'], ['no', '##ne', '[SEP]'], ['no', '##ne', '[SEP]'], ['no', '##ne', '[SEP]'], ['no', '##ne', '[SEP]'], ['no', '##ne', '[SEP]'], ['no', '##ne', '[SEP]'], ['no', '##ne', '[SEP]'], ['no', '##ne', '[SEP]'], ['no', '##ne', '[SEP]'], ['no', '##ne', '[SEP]'], ['no', '##ne', '[SEP]'], ['no', '##ne', '[SEP]'], ['no', '##ne', '[SEP]'], ['no', '##ne', '[SEP]'], ['no', '##ne', '[SEP]'], ['no', '##ne', '[SEP]'], ['no', '##ne', '[SEP]'], ['no', '##ne', '[SEP]'], ['no', '##ne', '[SEP]'], ['no', '##ne', '[SEP]'], ['no', '##ne', '[SEP]']]\n"
     ]
    }
   ],
   "source": [
    "print('미리 ontology로 정의된 슬롯 45개 중 정답 token 예측')\n",
    "print('target ids', task.train_loader.dataset.features[0].target_ids, end='\\n\\n')\n",
    "print('target ids to vocab', target_ids_0)"
   ]
  }
 ],
 "metadata": {
  "kernelspec": {
   "display_name": "Python 3",
   "language": "python",
   "name": "python3"
  },
  "language_info": {
   "codemirror_mode": {
    "name": "ipython",
    "version": 3
   },
   "file_extension": ".py",
   "mimetype": "text/x-python",
   "name": "python",
   "nbconvert_exporter": "python",
   "pygments_lexer": "ipython3",
   "version": "3.6.10"
  },
  "toc": {
   "base_numbering": 1,
   "nav_menu": {},
   "number_sections": true,
   "sideBar": true,
   "skip_h1_title": false,
   "title_cell": "Table of Contents",
   "title_sidebar": "Contents",
   "toc_cell": false,
   "toc_position": {},
   "toc_section_display": true,
   "toc_window_display": false
  }
 },
 "nbformat": 4,
 "nbformat_minor": 4
}
