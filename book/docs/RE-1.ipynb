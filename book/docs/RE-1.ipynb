{
 "cells": [
  {
   "cell_type": "markdown",
   "metadata": {
    "id": "alternative-artwork"
   },
   "source": [
    "# BERT로 RE task 다루기\n",
    "\n",
    "- Task : KLUE-RE\n",
    "- 담당자: [김보석](https://github.com/BOSOEK) 님\n",
    "- 최종수정일: 21-09-15\n",
    "- 본 자료는 가짜연구소 3기 KLUE 로 모델 평가하기 크루 활동으로 작성됨\n"
   ]
  },
  {
   "cell_type": "markdown",
   "metadata": {
    "id": "alternative-artwork"
   },
   "source": [
    "# 01 init\n",
    "\n",
    "본 노트북은 hugging face의 pretrained-bert로 관계추출하는 방법을 설명합니다.    \n",
    "Simple BERT Models for Relation Extraction 논문을 참고하였습니다.([참고 Relation Extraction 논문](https://arxiv.org/pdf/1904.05255.pdf))\n",
    "\n",
    "* 관계추출 task란?   \n",
    "입력으로 주어진 문장 내에서 2개의 entity에 대한 관계를 총 30가지의 관계 중 하나로 분류하는 것입니다.   \n",
    "\n",
    "    ```\n",
    "    입력 \n",
    "    - 문장 : 이날 보고회에는 권오봉 여수시장과 전문가 자문위원, 전남도와 여수시 관계공무원 등 20여 명이 참석했다.\n",
    "    - subject entity : 여수시\n",
    "    - object entity : 권오봉\n",
    "\n",
    "    출력 \n",
    "    - lable : 10\n",
    "    ```\n",
    "\n",
    "## 필요 라이브러리 install\n",
    "* datasets : hugging face 의 datasets 라이브러리(관련 페이지 링크) 중 load_dataset 매서드를 사용하면 쉽게 데이터를 다운로드 받을 수 있습니다.   \n",
    "* sklearn : 학습 모델 평가시 사용합니다.   \n",
    "* transformers : hugging face(관련 페이지 링크) 에서 BERT 모델 등을 불러오기 위해 사용합니다."
   ]
  },
  {
   "cell_type": "code",
   "execution_count": 2,
   "metadata": {
    "colab": {
     "base_uri": "https://localhost:8080/"
    },
    "executionInfo": {
     "elapsed": 18671,
     "status": "ok",
     "timestamp": 1632796167482,
     "user": {
      "displayName": "김보석",
      "photoUrl": "https://lh3.googleusercontent.com/a-/AOh14Gjn9RdJkJIesGDUmE8JTZrRsciTZIupvfj7xz1LvA=s64",
      "userId": "08969752424908754753"
     },
     "user_tz": -540
    },
    "id": "alternate-solid",
    "outputId": "f623f8da-5a3e-401b-e9c2-527542960886"
   },
   "outputs": [
    {
     "name": "stdout",
     "output_type": "stream",
     "text": [
      "Collecting datasets\n",
      "  Downloading datasets-1.12.1-py3-none-any.whl (270 kB)\n",
      "\u001b[K     |████████████████████████████████| 270 kB 5.6 MB/s \n",
      "\u001b[?25hCollecting xxhash\n",
      "  Downloading xxhash-2.0.2-cp37-cp37m-manylinux2010_x86_64.whl (243 kB)\n",
      "\u001b[K     |████████████████████████████████| 243 kB 33.6 MB/s \n",
      "\u001b[?25hRequirement already satisfied: pyarrow!=4.0.0,>=1.0.0 in /usr/local/lib/python3.7/dist-packages (from datasets) (3.0.0)\n",
      "Collecting huggingface-hub<0.1.0,>=0.0.14\n",
      "  Downloading huggingface_hub-0.0.17-py3-none-any.whl (52 kB)\n",
      "\u001b[K     |████████████████████████████████| 52 kB 1.6 MB/s \n",
      "\u001b[?25hRequirement already satisfied: multiprocess in /usr/local/lib/python3.7/dist-packages (from datasets) (0.70.12.2)\n",
      "Requirement already satisfied: importlib-metadata in /usr/local/lib/python3.7/dist-packages (from datasets) (4.8.1)\n",
      "Collecting fsspec[http]>=2021.05.0\n",
      "  Downloading fsspec-2021.9.0-py3-none-any.whl (123 kB)\n",
      "\u001b[K     |████████████████████████████████| 123 kB 52.8 MB/s \n",
      "\u001b[?25hRequirement already satisfied: packaging in /usr/local/lib/python3.7/dist-packages (from datasets) (21.0)\n",
      "Collecting aiohttp\n",
      "  Downloading aiohttp-3.7.4.post0-cp37-cp37m-manylinux2014_x86_64.whl (1.3 MB)\n",
      "\u001b[K     |████████████████████████████████| 1.3 MB 44.2 MB/s \n",
      "\u001b[?25hRequirement already satisfied: pandas in /usr/local/lib/python3.7/dist-packages (from datasets) (1.1.5)\n",
      "Requirement already satisfied: numpy>=1.17 in /usr/local/lib/python3.7/dist-packages (from datasets) (1.19.5)\n",
      "Requirement already satisfied: requests>=2.19.0 in /usr/local/lib/python3.7/dist-packages (from datasets) (2.23.0)\n",
      "Requirement already satisfied: dill in /usr/local/lib/python3.7/dist-packages (from datasets) (0.3.4)\n",
      "Requirement already satisfied: tqdm>=4.62.1 in /usr/local/lib/python3.7/dist-packages (from datasets) (4.62.2)\n",
      "Requirement already satisfied: typing-extensions in /usr/local/lib/python3.7/dist-packages (from huggingface-hub<0.1.0,>=0.0.14->datasets) (3.7.4.3)\n",
      "Requirement already satisfied: filelock in /usr/local/lib/python3.7/dist-packages (from huggingface-hub<0.1.0,>=0.0.14->datasets) (3.0.12)\n",
      "Requirement already satisfied: pyparsing>=2.0.2 in /usr/local/lib/python3.7/dist-packages (from packaging->datasets) (2.4.7)\n",
      "Requirement already satisfied: chardet<4,>=3.0.2 in /usr/local/lib/python3.7/dist-packages (from requests>=2.19.0->datasets) (3.0.4)\n",
      "Requirement already satisfied: idna<3,>=2.5 in /usr/local/lib/python3.7/dist-packages (from requests>=2.19.0->datasets) (2.10)\n",
      "Requirement already satisfied: urllib3!=1.25.0,!=1.25.1,<1.26,>=1.21.1 in /usr/local/lib/python3.7/dist-packages (from requests>=2.19.0->datasets) (1.24.3)\n",
      "Requirement already satisfied: certifi>=2017.4.17 in /usr/local/lib/python3.7/dist-packages (from requests>=2.19.0->datasets) (2021.5.30)\n",
      "Collecting multidict<7.0,>=4.5\n",
      "  Downloading multidict-5.1.0-cp37-cp37m-manylinux2014_x86_64.whl (142 kB)\n",
      "\u001b[K     |████████████████████████████████| 142 kB 49.3 MB/s \n",
      "\u001b[?25hRequirement already satisfied: attrs>=17.3.0 in /usr/local/lib/python3.7/dist-packages (from aiohttp->datasets) (21.2.0)\n",
      "Collecting async-timeout<4.0,>=3.0\n",
      "  Downloading async_timeout-3.0.1-py3-none-any.whl (8.2 kB)\n",
      "Collecting yarl<2.0,>=1.0\n",
      "  Downloading yarl-1.6.3-cp37-cp37m-manylinux2014_x86_64.whl (294 kB)\n",
      "\u001b[K     |████████████████████████████████| 294 kB 54.0 MB/s \n",
      "\u001b[?25hRequirement already satisfied: zipp>=0.5 in /usr/local/lib/python3.7/dist-packages (from importlib-metadata->datasets) (3.5.0)\n",
      "Requirement already satisfied: pytz>=2017.2 in /usr/local/lib/python3.7/dist-packages (from pandas->datasets) (2018.9)\n",
      "Requirement already satisfied: python-dateutil>=2.7.3 in /usr/local/lib/python3.7/dist-packages (from pandas->datasets) (2.8.2)\n",
      "Requirement already satisfied: six>=1.5 in /usr/local/lib/python3.7/dist-packages (from python-dateutil>=2.7.3->pandas->datasets) (1.15.0)\n",
      "Installing collected packages: multidict, yarl, async-timeout, fsspec, aiohttp, xxhash, huggingface-hub, datasets\n",
      "Successfully installed aiohttp-3.7.4.post0 async-timeout-3.0.1 datasets-1.12.1 fsspec-2021.9.0 huggingface-hub-0.0.17 multidict-5.1.0 xxhash-2.0.2 yarl-1.6.3\n",
      "Requirement already satisfied: sklearn in /usr/local/lib/python3.7/dist-packages (0.0)\n",
      "Requirement already satisfied: scikit-learn in /usr/local/lib/python3.7/dist-packages (from sklearn) (0.22.2.post1)\n",
      "Requirement already satisfied: joblib>=0.11 in /usr/local/lib/python3.7/dist-packages (from scikit-learn->sklearn) (1.0.1)\n",
      "Requirement already satisfied: numpy>=1.11.0 in /usr/local/lib/python3.7/dist-packages (from scikit-learn->sklearn) (1.19.5)\n",
      "Requirement already satisfied: scipy>=0.17.0 in /usr/local/lib/python3.7/dist-packages (from scikit-learn->sklearn) (1.4.1)\n",
      "Collecting transformers\n",
      "  Downloading transformers-4.11.0-py3-none-any.whl (2.9 MB)\n",
      "\u001b[K     |████████████████████████████████| 2.9 MB 5.2 MB/s \n",
      "\u001b[?25hRequirement already satisfied: tqdm>=4.27 in /usr/local/lib/python3.7/dist-packages (from transformers) (4.62.2)\n",
      "Requirement already satisfied: packaging>=20.0 in /usr/local/lib/python3.7/dist-packages (from transformers) (21.0)\n",
      "Requirement already satisfied: regex!=2019.12.17 in /usr/local/lib/python3.7/dist-packages (from transformers) (2019.12.20)\n",
      "Requirement already satisfied: requests in /usr/local/lib/python3.7/dist-packages (from transformers) (2.23.0)\n",
      "Collecting pyyaml>=5.1\n",
      "  Downloading PyYAML-5.4.1-cp37-cp37m-manylinux1_x86_64.whl (636 kB)\n",
      "\u001b[K     |████████████████████████████████| 636 kB 45.4 MB/s \n",
      "\u001b[?25hRequirement already satisfied: filelock in /usr/local/lib/python3.7/dist-packages (from transformers) (3.0.12)\n",
      "Collecting sacremoses\n",
      "  Downloading sacremoses-0.0.46-py3-none-any.whl (895 kB)\n",
      "\u001b[K     |████████████████████████████████| 895 kB 50.8 MB/s \n",
      "\u001b[?25hRequirement already satisfied: huggingface-hub>=0.0.17 in /usr/local/lib/python3.7/dist-packages (from transformers) (0.0.17)\n",
      "Requirement already satisfied: numpy>=1.17 in /usr/local/lib/python3.7/dist-packages (from transformers) (1.19.5)\n",
      "Collecting tokenizers<0.11,>=0.10.1\n",
      "  Downloading tokenizers-0.10.3-cp37-cp37m-manylinux_2_5_x86_64.manylinux1_x86_64.manylinux_2_12_x86_64.manylinux2010_x86_64.whl (3.3 MB)\n",
      "\u001b[K     |████████████████████████████████| 3.3 MB 38.1 MB/s \n",
      "\u001b[?25hRequirement already satisfied: importlib-metadata in /usr/local/lib/python3.7/dist-packages (from transformers) (4.8.1)\n",
      "Requirement already satisfied: typing-extensions in /usr/local/lib/python3.7/dist-packages (from huggingface-hub>=0.0.17->transformers) (3.7.4.3)\n",
      "Requirement already satisfied: pyparsing>=2.0.2 in /usr/local/lib/python3.7/dist-packages (from packaging>=20.0->transformers) (2.4.7)\n",
      "Requirement already satisfied: zipp>=0.5 in /usr/local/lib/python3.7/dist-packages (from importlib-metadata->transformers) (3.5.0)\n",
      "Requirement already satisfied: chardet<4,>=3.0.2 in /usr/local/lib/python3.7/dist-packages (from requests->transformers) (3.0.4)\n",
      "Requirement already satisfied: certifi>=2017.4.17 in /usr/local/lib/python3.7/dist-packages (from requests->transformers) (2021.5.30)\n",
      "Requirement already satisfied: urllib3!=1.25.0,!=1.25.1,<1.26,>=1.21.1 in /usr/local/lib/python3.7/dist-packages (from requests->transformers) (1.24.3)\n",
      "Requirement already satisfied: idna<3,>=2.5 in /usr/local/lib/python3.7/dist-packages (from requests->transformers) (2.10)\n",
      "Requirement already satisfied: click in /usr/local/lib/python3.7/dist-packages (from sacremoses->transformers) (7.1.2)\n",
      "Requirement already satisfied: six in /usr/local/lib/python3.7/dist-packages (from sacremoses->transformers) (1.15.0)\n",
      "Requirement already satisfied: joblib in /usr/local/lib/python3.7/dist-packages (from sacremoses->transformers) (1.0.1)\n",
      "Installing collected packages: tokenizers, sacremoses, pyyaml, transformers\n",
      "  Attempting uninstall: pyyaml\n",
      "    Found existing installation: PyYAML 3.13\n",
      "    Uninstalling PyYAML-3.13:\n",
      "      Successfully uninstalled PyYAML-3.13\n",
      "Successfully installed pyyaml-5.4.1 sacremoses-0.0.46 tokenizers-0.10.3 transformers-4.11.0\n"
     ]
    }
   ],
   "source": [
    "!pip install datasets\n",
    "!pip install sklearn\n",
    "!pip install transformers"
   ]
  },
  {
   "cell_type": "markdown",
   "metadata": {
    "id": "Cm-qvLN4MRvL"
   },
   "source": [
    "## 필요 라이브러리 import 및 device 설정"
   ]
  },
  {
   "cell_type": "code",
   "execution_count": 3,
   "metadata": {
    "executionInfo": {
     "elapsed": 7799,
     "status": "ok",
     "timestamp": 1632796175275,
     "user": {
      "displayName": "김보석",
      "photoUrl": "https://lh3.googleusercontent.com/a-/AOh14Gjn9RdJkJIesGDUmE8JTZrRsciTZIupvfj7xz1LvA=s64",
      "userId": "08969752424908754753"
     },
     "user_tz": -540
    },
    "id": "funny-monster"
   },
   "outputs": [],
   "source": [
    "import torch\n",
    "import torch.nn as nn\n",
    "import sklearn.metrics\n",
    "\n",
    "from tqdm import tqdm\n",
    "from datasets import load_dataset\n",
    "from datasets.arrow_dataset import Dataset\n",
    "from transformers import AutoTokenizer, AutoModelForSequenceClassification, AdamW\n",
    "from torch.utils.data import DataLoader\n",
    "\n",
    "device = torch.device(\"cuda\" if torch.cuda.is_available() else \"cpu\")"
   ]
  },
  {
   "cell_type": "markdown",
   "metadata": {
    "id": "confident-advance"
   },
   "source": [
    "# 02 Data Loading¶\n",
    "huggingface의 datasets 라이브러리의 load_dataset으로 데이터를 다운받습니다.\n",
    "\n",
    "## Data Download\n",
    "* train 데이터셋 : 32470개   \n",
    "* validation 데이터셋 : 7765개"
   ]
  },
  {
   "cell_type": "code",
   "execution_count": 4,
   "metadata": {
    "colab": {
     "base_uri": "https://localhost:8080/",
     "height": 353,
     "referenced_widgets": [
      "2af2f7e67cd1446fb5535e2c2302b00d",
      "7d6bf56c1c474974a9216a70687d0ddd",
      "51b6f3c235c6458c82bd625309bb38fb",
      "4aaf175cda2543f79babbd981002bccb",
      "7b13a4af3efb47398d69720445f4033d",
      "ec0f595b6dd2423aba3d566a26c422d3",
      "42fe4224a99f43c2b2d5d3b666b164e0",
      "a947f443b8564bbcbe505ed66e975b7e",
      "3446d43c1b7b4a83b871ef7b4785ab49",
      "339bbf612b394688b0c565aa1d58f64a",
      "03cfbc505ea74037bb9d6fe4b2fa35b6",
      "ea265a72bf614847b30f6ddfc2302bf0",
      "f11ac09b6d3c46d79f34eebb4a9b92a8",
      "4ee5b0dc50b6477e826f0ddd7b1e043d",
      "9bc20afc1999418aa11013987d5b9e16",
      "1dbdf9a6d8bc4a1baecc0ec1664efd02",
      "1070998a17ae44eeb3f3f2b1506e6899",
      "68bfebc33082435db331ea6aaf914fdb",
      "3044953faf5b4dae974e267a36ac693a",
      "813b2415369a48fea5a444af4e161887",
      "56944be3c8c74f0194b5449b891a6786",
      "2097c47736e246d5ac9264ce9ad7f571",
      "60f92137a4564a08a7965dd3fcc8d4bf",
      "90d88b8724794d65aeb9d5f2177436de",
      "115a3f762d3c4bfe94941ee788d74c40",
      "30edaefb45fe46d1aef409c19e228379",
      "42229c1b5a184b4ebfd88806987e2b4c",
      "b43b130d58554aa89f9b0de0cc3397a6",
      "d0db238c7e9147eea02bf5b6b304811d",
      "f8d1c8aa1f0e4cd9883cfeb6b4090462",
      "5e74f63ce6fb4212b11886bfe8ba2d4b",
      "9faae52a367246c5b77ee20d75421d7d",
      "3fa4c07c37124f1a974d90c236fa075a",
      "d8a6254f99dc46ffaa9aeef96d22615f",
      "fa5fef3c6d764732885b6fd65355819b",
      "0d8fa55249014f84994c2a836aab1d7a",
      "1d547ee148664f6ba4cb08b4841d9a4a",
      "5193a0f86e7146d0851778f41f79e125",
      "85e25dbbeef94e3eaa62216d989012c8",
      "e0292c984aa844e1ac240364a196599b",
      "370cba14db494726b3d59a80bf06000a",
      "6df242fe7cd14991ad01f202723c2332",
      "ab4bfea0560749a88223ed351a2961a8",
      "889533a47a8445ca817fc9dd6e446a66",
      "068d3f2c751c413993449ac2cb20a83a",
      "e789f6e3f4c641be81694868d46beeed",
      "3275e3715a71463ea76b3fe5a532f9b9",
      "f3b4e8682dcd43fe8357e14a878f459b",
      "0c708a0a64844d5c908c235fd502d101",
      "a0ba6b0e8a2548c5905972ae782c8f9a",
      "0740e36e4b004353ac20d42a8ead6ba3",
      "cfe19f16049c4ca993dfa231d180647a",
      "7e437de6e31446fcbd5da04b73f3b3eb",
      "909a097cb5e148639c857b9332597741",
      "4b33d047e22a44a5abe719242686c966",
      "bfb72e8d839943f0aa9cd9e23683b103",
      "d31055ef87234142b574cf3586992ae7",
      "9ba12ca97d9a49a99ee097c594717da9",
      "f153bfc1f6a143ecb39fc9c23708c9ec",
      "348231196c9d45bab3b45f5584a4f55a",
      "c1d2a3e7ce0a459a9a964f6951b18a81",
      "898aee49c8c443cc85fd7f9a181ec5b1",
      "cb631a3a6574494eb891779a3046c3db",
      "07e31508db984682888dc97d9e123a4f",
      "551ac5f3c05d4f43a88ff28516a05851",
      "e6eed94d29054e70a46299851b085935"
     ]
    },
    "executionInfo": {
     "elapsed": 8615,
     "status": "ok",
     "timestamp": 1632796183878,
     "user": {
      "displayName": "김보석",
      "photoUrl": "https://lh3.googleusercontent.com/a-/AOh14Gjn9RdJkJIesGDUmE8JTZrRsciTZIupvfj7xz1LvA=s64",
      "userId": "08969752424908754753"
     },
     "user_tz": -540
    },
    "id": "functional-devices",
    "outputId": "28982642-b4a8-4f8c-cdff-9be224ea683e"
   },
   "outputs": [
    {
     "data": {
      "application/vnd.jupyter.widget-view+json": {
       "model_id": "2af2f7e67cd1446fb5535e2c2302b00d",
       "version_major": 2,
       "version_minor": 0
      },
      "text/plain": [
       "Downloading:   0%|          | 0.00/5.19k [00:00<?, ?B/s]"
      ]
     },
     "metadata": {},
     "output_type": "display_data"
    },
    {
     "data": {
      "application/vnd.jupyter.widget-view+json": {
       "model_id": "ea265a72bf614847b30f6ddfc2302bf0",
       "version_major": 2,
       "version_minor": 0
      },
      "text/plain": [
       "Downloading:   0%|          | 0.00/2.93k [00:00<?, ?B/s]"
      ]
     },
     "metadata": {},
     "output_type": "display_data"
    },
    {
     "name": "stdout",
     "output_type": "stream",
     "text": [
      "Downloading and preparing dataset klue/re (download: 5.41 MiB, generated: 13.07 MiB, post-processed: Unknown size, total: 18.48 MiB) to /root/.cache/huggingface/datasets/klue/re/1.0.0/55ff8f92b7a4b9842be6514ce0b4b5295b46d5e493f8bb5760da4be717018f90...\n"
     ]
    },
    {
     "data": {
      "application/vnd.jupyter.widget-view+json": {
       "model_id": "60f92137a4564a08a7965dd3fcc8d4bf",
       "version_major": 2,
       "version_minor": 0
      },
      "text/plain": [
       "Downloading:   0%|          | 0.00/5.67M [00:00<?, ?B/s]"
      ]
     },
     "metadata": {},
     "output_type": "display_data"
    },
    {
     "data": {
      "application/vnd.jupyter.widget-view+json": {
       "model_id": "d8a6254f99dc46ffaa9aeef96d22615f",
       "version_major": 2,
       "version_minor": 0
      },
      "text/plain": [
       "0 examples [00:00, ? examples/s]"
      ]
     },
     "metadata": {},
     "output_type": "display_data"
    },
    {
     "data": {
      "application/vnd.jupyter.widget-view+json": {
       "model_id": "068d3f2c751c413993449ac2cb20a83a",
       "version_major": 2,
       "version_minor": 0
      },
      "text/plain": [
       "0 examples [00:00, ? examples/s]"
      ]
     },
     "metadata": {},
     "output_type": "display_data"
    },
    {
     "name": "stdout",
     "output_type": "stream",
     "text": [
      "Dataset klue downloaded and prepared to /root/.cache/huggingface/datasets/klue/re/1.0.0/55ff8f92b7a4b9842be6514ce0b4b5295b46d5e493f8bb5760da4be717018f90. Subsequent calls will reuse this data.\n"
     ]
    },
    {
     "data": {
      "application/vnd.jupyter.widget-view+json": {
       "model_id": "bfb72e8d839943f0aa9cd9e23683b103",
       "version_major": 2,
       "version_minor": 0
      },
      "text/plain": [
       "  0%|          | 0/2 [00:00<?, ?it/s]"
      ]
     },
     "metadata": {},
     "output_type": "display_data"
    },
    {
     "data": {
      "text/plain": [
       "DatasetDict({\n",
       "    train: Dataset({\n",
       "        features: ['guid', 'sentence', 'subject_entity', 'object_entity', 'label', 'source'],\n",
       "        num_rows: 32470\n",
       "    })\n",
       "    validation: Dataset({\n",
       "        features: ['guid', 'sentence', 'subject_entity', 'object_entity', 'label', 'source'],\n",
       "        num_rows: 7765\n",
       "    })\n",
       "})"
      ]
     },
     "execution_count": 4,
     "metadata": {},
     "output_type": "execute_result"
    }
   ],
   "source": [
    "dataset = load_dataset('klue', 're')\n",
    "dataset"
   ]
  },
  {
   "cell_type": "markdown",
   "metadata": {
    "id": "M-wTFwLGZhhH"
   },
   "source": [
    "## Data View\n",
    "dataset의 구조를 데이터 샘플을 통해 살펴보겠습니다."
   ]
  },
  {
   "cell_type": "code",
   "execution_count": 5,
   "metadata": {
    "colab": {
     "base_uri": "https://localhost:8080/"
    },
    "executionInfo": {
     "elapsed": 15,
     "status": "ok",
     "timestamp": 1632796183879,
     "user": {
      "displayName": "김보석",
      "photoUrl": "https://lh3.googleusercontent.com/a-/AOh14Gjn9RdJkJIesGDUmE8JTZrRsciTZIupvfj7xz1LvA=s64",
      "userId": "08969752424908754753"
     },
     "user_tz": -540
    },
    "id": "aging-lingerie",
    "outputId": "d47fb72f-8be9-41a8-a2ea-9a96b71ff51b"
   },
   "outputs": [
    {
     "data": {
      "text/plain": [
       "{'guid': 'klue-re-v1_train_00000',\n",
       " 'label': 0,\n",
       " 'object_entity': {'end_idx': 18,\n",
       "  'start_idx': 13,\n",
       "  'type': 'PER',\n",
       "  'word': '조지 해리슨'},\n",
       " 'sentence': '〈Something〉는 조지 해리슨이 쓰고 비틀즈가 1969년 앨범 《Abbey Road》에 담은 노래다.',\n",
       " 'source': 'wikipedia',\n",
       " 'subject_entity': {'end_idx': 26,\n",
       "  'start_idx': 24,\n",
       "  'type': 'ORG',\n",
       "  'word': '비틀즈'}}"
      ]
     },
     "execution_count": 5,
     "metadata": {},
     "output_type": "execute_result"
    }
   ],
   "source": [
    "# 데이터 구성\n",
    "dataset['train'][0]"
   ]
  },
  {
   "cell_type": "markdown",
   "metadata": {
    "id": "RgCeNSwlMrxh"
   },
   "source": [
    "관계 추출(Relation Extraction)의 구조는 다음과 같습니다.\n",
    "1. guid : 고유 index\n",
    "2. label : 관계 라벨(0 ~ 29)\n",
    "3. object_entity : 개체 엔티티 정보(시작 글자 위치, 끝나는 글자 위치, 단어, 단어 타입(ORG, PER 등)\n",
    "4. subject_entity : 주체 엔티티 정보(시작 글자 위치, 끝나는 글자 위치, 단어, 단어 타입(ORG, PER 등)\n",
    "5. sentence : 제시 문장"
   ]
  },
  {
   "cell_type": "markdown",
   "metadata": {
    "id": "starting-boating"
   },
   "source": [
    "## Data Sample\n",
    "각 column 구성을 임의의 3개의 샘플을 추출하여 살펴보겠습니다."
   ]
  },
  {
   "cell_type": "code",
   "execution_count": 6,
   "metadata": {
    "colab": {
     "base_uri": "https://localhost:8080/"
    },
    "executionInfo": {
     "elapsed": 10,
     "status": "ok",
     "timestamp": 1632796183879,
     "user": {
      "displayName": "김보석",
      "photoUrl": "https://lh3.googleusercontent.com/a-/AOh14Gjn9RdJkJIesGDUmE8JTZrRsciTZIupvfj7xz1LvA=s64",
      "userId": "08969752424908754753"
     },
     "user_tz": -540
    },
    "id": "OmOCTniKMxED",
    "outputId": "76083405-4af5-4d2c-8dfb-2c6e7f549de6"
   },
   "outputs": [
    {
     "name": "stdout",
     "output_type": "stream",
     "text": [
      "17273번째 Data\n",
      "guid : klue-re-v1_train_17273\n",
      "label : 5\n",
      "object_entity : {'word': '네덜란드', 'start_idx': 45, 'end_idx': 48, 'type': 'ORG'}\n",
      "subject_entity{'word': '퀴라소', 'start_idx': 16, 'end_idx': 18, 'type': 'ORG'}\n",
      "sentence : 2007년부터 2013년까지 퀴라소 U-20 대표팀, 네덜란드 U-19 대표팀, 네덜란드 U-21 대표팀에서 25경기 1골을 기록했고 이후 2016년 퀴라소 A대표팀에 처음으로 발탁되어 같은 해 3월 바베이도스와의 친선 경기에서 국제 A매치 첫 경기를 치뤘으며 현재까지 A매치 28경기에서 11골을 뽑아내면서 퀴라소의 2017년 카리브컵 우승, 2019년 킹스컵 우승, 2019년 CONCACAF 골드컵 8강 진출에 공헌했다.\n",
      "=============================================\n",
      "\n",
      "12499번째 Data\n",
      "guid : klue-re-v1_train_12499\n",
      "label : 18\n",
      "object_entity : {'word': '베르놀라크 육군', 'start_idx': 0, 'end_idx': 7, 'type': 'PER'}\n",
      "subject_entity{'word': '페르디난트 차틀로시', 'start_idx': 24, 'end_idx': 33, 'type': 'PER'}\n",
      "sentence : 베르놀라크 육군은 슬로바키아 국방부 장관인 페르디난트 차틀로시가 지휘했으며, 초기 지휘부는 스피슈스카노바베스였으나 9월 8일 이후 프레쇼우 근처로 옮겼다.\n",
      "=============================================\n",
      "\n",
      "27819번째 Data\n",
      "guid : klue-re-v1_train_27819\n",
      "label : 10\n",
      "object_entity : {'word': '김영삼', 'start_idx': 15, 'end_idx': 17, 'type': 'PER'}\n",
      "subject_entity{'word': '문민정부', 'start_idx': 3, 'end_idx': 6, 'type': 'ORG'}\n",
      "sentence : 이는 문민정부가 들어섰다는 김영삼 정권 때 632명보다 두 배에 가까운 수치이다.\n",
      "=============================================\n",
      "\n"
     ]
    }
   ],
   "source": [
    "import random\n",
    "for i in random.sample(range(0, 32470), 3) :\n",
    "    print(str(i) + '번째 Data')\n",
    "    print('guid : ' + dataset['train'][i]['guid'])\n",
    "    print('label : ' + str(dataset['train'][i]['label']))\n",
    "    print('object_entity : ' + str(dataset['train'][i]['object_entity']))\n",
    "    print('subject_entity' + str(dataset['train'][i]['subject_entity']))\n",
    "    print('sentence : ' + dataset['train'][i]['sentence'])\n",
    "    print('=============================================', end='\\n\\n')"
   ]
  },
  {
   "cell_type": "markdown",
   "metadata": {
    "id": "ztVFhpcGMzlV"
   },
   "source": [
    "RE task 의 목적은 주어진 문장 내의 두 entity가 어떤 토픽(Topic)에 속하는지 분류하는 것입니다.    \n",
    "\n",
    "이때 input 에는 entity type이 표시된 토큰으로 각 entity들을 감싼 문장이 주어지며 label이 target으로 사용된니다\n",
    "\n",
    "<img src='https://user-images.githubusercontent.com/68007145/134886362-28445262-e16a-4cc2-bde0-b5b2d3f54bd0.PNG'>"
   ]
  },
  {
   "cell_type": "markdown",
   "metadata": {
    "id": "7L91U2Z5M8Yq"
   },
   "source": [
    "## Type Tokens를 추가하는 이유\n",
    "추가한 token은 transformer 전체층을 다 거치고 나면 sequence의 결합된 의미를 가지게 되는데, 여기에 간단한 classifier를 붙이면 단일 문장의 classification을 쉽게 할 수 있게 됩니다. \n",
    "\n",
    "#### 즉 문장을 분류함에 있어서 제시된 entity들이 특별한 의미를 갖도록 하기 위해 type tokens들을 추가하는것!"
   ]
  },
  {
   "cell_type": "markdown",
   "metadata": {
    "id": "5xJkthQ8M-ZW"
   },
   "source": [
    "# 03 Data Processing\n",
    "KLUE-RE task 중 토큰 추가와 Tokenizer를 사용하여 데이터를 인코딩한 후 전처리하는 과정을 설명합니다.\n",
    "\n",
    "## 토큰 추가\n",
    "sentence 에 관계 단어 두개를 표시하기 위한 각각의 엔티티 타입을 특별 토큰형태로 추가합니다."
   ]
  },
  {
   "cell_type": "code",
   "execution_count": 7,
   "metadata": {
    "executionInfo": {
     "elapsed": 7,
     "status": "ok",
     "timestamp": 1632796183880,
     "user": {
      "displayName": "김보석",
      "photoUrl": "https://lh3.googleusercontent.com/a-/AOh14Gjn9RdJkJIesGDUmE8JTZrRsciTZIupvfj7xz1LvA=s64",
      "userId": "08969752424908754753"
     },
     "user_tz": -540
    },
    "id": "directed-direction"
   },
   "outputs": [],
   "source": [
    "def add_Token(dataset):\n",
    "    sentences = []\n",
    "    labels = []\n",
    "\n",
    "    for data in dataset:\n",
    "        sentence = data['sentence']\n",
    "\n",
    "        object_start =  int(data['object_entity']['start_idx'])\n",
    "        object_end =  int(data['object_entity']['end_idx'])\n",
    "        subject_start =  int(data['subject_entity']['start_idx'])\n",
    "        subject_end =  int(data['subject_entity']['end_idx'])\n",
    "        otype = data['object_entity']['type']\n",
    "        stype = data['subject_entity']['type']\n",
    "\n",
    "        if object_start < subject_start:\n",
    "            new_sentence = sentence[:object_start] + '<O-' + str(otype) + '>' + sentence[object_start:object_end+1] + '</O-' + str(otype)+'>' + sentence[object_end+1:subject_start] + '<S-'+str(stype)+'>' + sentence[subject_start:subject_end+1] + '</S-'+str(stype)+'>' + sentence[subject_end+1:]\n",
    "        else:\n",
    "            new_sentence = sentence[:subject_start] + '<S-'+str(stype)+'>' + sentence[subject_start:subject_end+1] + '</S-'+str(stype)+'>' + sentence[subject_end+1:object_start] + '<O-'+str(otype)+'>' + sentence[object_start:object_end+1] + '</O-'+str(otype)+'>' + sentence[object_end+1:]\n",
    "\n",
    "        # 본문 저장\n",
    "        sentences.append(new_sentence)\n",
    "\n",
    "        # 레이블 저장\n",
    "        labels.append(data['label'])\n",
    "\n",
    "    return sentences, labels"
   ]
  },
  {
   "cell_type": "code",
   "execution_count": 8,
   "metadata": {
    "executionInfo": {
     "elapsed": 7443,
     "status": "ok",
     "timestamp": 1632796191316,
     "user": {
      "displayName": "김보석",
      "photoUrl": "https://lh3.googleusercontent.com/a-/AOh14Gjn9RdJkJIesGDUmE8JTZrRsciTZIupvfj7xz1LvA=s64",
      "userId": "08969752424908754753"
     },
     "user_tz": -540
    },
    "id": "valuable-nightmare"
   },
   "outputs": [],
   "source": [
    "# train, validation데이터셋에서 sentence와 label만 저장.\n",
    "train_sentences, train_labels = add_Token(dataset['train'])\n",
    "val_sentences, val_labels = add_Token(dataset['validation'])"
   ]
  },
  {
   "cell_type": "code",
   "execution_count": 9,
   "metadata": {
    "colab": {
     "base_uri": "https://localhost:8080/"
    },
    "executionInfo": {
     "elapsed": 20,
     "status": "ok",
     "timestamp": 1632796191317,
     "user": {
      "displayName": "김보석",
      "photoUrl": "https://lh3.googleusercontent.com/a-/AOh14Gjn9RdJkJIesGDUmE8JTZrRsciTZIupvfj7xz1LvA=s64",
      "userId": "08969752424908754753"
     },
     "user_tz": -540
    },
    "id": "intellectual-conflict",
    "outputId": "344cf8aa-ccdb-4180-92fe-1ee31f0f41cb"
   },
   "outputs": [
    {
     "name": "stdout",
     "output_type": "stream",
     "text": [
      "〈Something〉는 <O-PER>조지 해리슨</O-PER>이 쓰고 <S-ORG>비틀즈</S-ORG>가 1969년 앨범 《Abbey Road》에 담은 노래다. \n",
      "\n",
      "호남이 기반인 바른미래당·<O-ORG>대안신당</O-ORG>·<S-ORG>민주평화당</S-ORG>이 우여곡절 끝에 합당해 민생당(가칭)으로 재탄생한다. \n",
      "\n",
      "K리그2에서 성적 1위를 달리고 있는 <S-ORG>광주FC</S-ORG>는 지난 26일 <O-ORG>한국프로축구연맹</O-ORG>으로부터 관중 유치 성과와 마케팅 성과를 인정받아 ‘풀 스타디움상’과 ‘플러스 스타디움상’을 수상했다. \n",
      "\n",
      "균일가 생활용품점 (주)<S-ORG>아성다이소</S-ORG>(대표 <O-PER>박정부</O-PER>)는 코로나19 바이러스로 어려움을 겪고 있는 대구광역시에 행복박스를 전달했다고 10일 밝혔다. \n",
      "\n",
      "<O-DAT>1967</O-DAT>년 프로 야구 드래프트 1순위로 <S-ORG>요미우리 자이언츠</S-ORG>에게 입단하면서 등번호는 8번으로 배정되었다. \n",
      "\n"
     ]
    }
   ],
   "source": [
    "# 토큰 확인하기.\n",
    "for sentence in train_sentences[:5]:\n",
    "    print(sentence, '\\n')"
   ]
  },
  {
   "cell_type": "markdown",
   "metadata": {
    "id": "labeled-division"
   },
   "source": [
    "## Tokenizer load\n",
    "전처리를 위해 tokenizer로 데이터를 인코딩하는 과정이 필요합니다. transformers 라이브러리의 tokenizer 모듈로 모델이 입력받는 포맷으로 변환할 수 있습니다.\n",
    "\n",
    "본 노트북에서는 AutoTokenizer.from_pretrained를 이용해 KLUE의 bert base pretrianed model에서 사용된 tokenizer로 데이터를 인코딩 하겠습니다."
   ]
  },
  {
   "cell_type": "code",
   "execution_count": 10,
   "metadata": {
    "executionInfo": {
     "elapsed": 12,
     "status": "ok",
     "timestamp": 1632796191317,
     "user": {
      "displayName": "김보석",
      "photoUrl": "https://lh3.googleusercontent.com/a-/AOh14Gjn9RdJkJIesGDUmE8JTZrRsciTZIupvfj7xz1LvA=s64",
      "userId": "08969752424908754753"
     },
     "user_tz": -540
    },
    "id": "ifIY_2QvNI_u"
   },
   "outputs": [],
   "source": [
    "model = 'klue/bert-base'"
   ]
  },
  {
   "cell_type": "code",
   "execution_count": 11,
   "metadata": {
    "colab": {
     "base_uri": "https://localhost:8080/",
     "height": 200,
     "referenced_widgets": [
      "3f1dbce520a64e17a84562ef056e82be",
      "875fa995bd18411f9ab85c6d0f79dab9",
      "cb684cb8af504a799f1fa6b931682d33",
      "69951f673db94c8c8b6139edd7af44f5",
      "0a05c7efbcc446e49739f341a2ed476d",
      "e710c4606a9c4839bc1a235e307e276b",
      "749317d6347a47df9f57941709a3666b",
      "0566be10ac4f45f894b29320af2ae5c9",
      "08e8a355f8a248a7834f7716d55cf5a9",
      "cd58b6ffd6e048018792edf51c7f0d1b",
      "e39a5efd2ba74ca6acdda4914fb4c998",
      "f17613f47958499a9dd0af83e7839ce8",
      "5aa6f41944074aa58fd8bdab54231c61",
      "953afe55a2014d11a0b19d5e60aa9b10",
      "e5f854c4982241019a82c35cd6375f98",
      "23ed9e1d7e344755808b3d9d15a14d10",
      "cae551da12cd41d98e3513dfc4809f9c",
      "d185ad91c03a4a00aa8b3838f327d3a8",
      "8e85c7c3cf3745a7a456aec80961292c",
      "f8de921d45614a44bfb59003104b8548",
      "9ab66be955544841a036b08ac3ad03b0",
      "bfa88123aa44468fad0837227d3afd2f",
      "b8e2b871818f4aa392637b7a1e6a8e44",
      "f4cf7906b7fd40698c909b8855ec5168",
      "9036d66067764ebd8315467be0e3f7ec",
      "e5f1760b88bc44c49cb60ce581629538",
      "3ff7e64d04804eecb42b0e7e14636d7d",
      "f429709296b245c582f500695468b3de",
      "b6be390ba9e9486cbb690ae4e87936c0",
      "6e6aa772fefa45a5bf67ee9a89ef63af",
      "33273a9f054a46af89383e62a4735872",
      "3aab585a33de47ccbb3e30a10d02ea23",
      "65623ec606c24684a06cd6712abfa01c",
      "16e88d55c3a7429da4e7dca00fc671d9",
      "a629f64f053445cdaa4aadb1911b3fcb",
      "cb21e450042840ed9d5f19f4cd6b7765",
      "03a12fe84f05416e9b6235353c9a90ad",
      "446a2cfd75d045beb77e770cfd438c8b",
      "a3a3ff53da0c4d09a4e32ace56bdc4e1",
      "0cd1e5ff0437402683630c8cf8180d6f",
      "9a10d2dc34724546b4a0c2bce6d73cfd",
      "32eec8b964824fceb097c510a7252425",
      "bc942e7e546c43d490b309099a77ff01",
      "0d18a6d3f4f34447b349ffe8673e6289"
     ]
    },
    "executionInfo": {
     "elapsed": 24684,
     "status": "ok",
     "timestamp": 1632796216793,
     "user": {
      "displayName": "김보석",
      "photoUrl": "https://lh3.googleusercontent.com/a-/AOh14Gjn9RdJkJIesGDUmE8JTZrRsciTZIupvfj7xz1LvA=s64",
      "userId": "08969752424908754753"
     },
     "user_tz": -540
    },
    "id": "placed-bulgarian",
    "outputId": "c85527e8-d583-4207-d2e6-9ef6c13afbfe"
   },
   "outputs": [
    {
     "data": {
      "application/vnd.jupyter.widget-view+json": {
       "model_id": "3f1dbce520a64e17a84562ef056e82be",
       "version_major": 2,
       "version_minor": 0
      },
      "text/plain": [
       "Downloading:   0%|          | 0.00/289 [00:00<?, ?B/s]"
      ]
     },
     "metadata": {},
     "output_type": "display_data"
    },
    {
     "data": {
      "application/vnd.jupyter.widget-view+json": {
       "model_id": "f17613f47958499a9dd0af83e7839ce8",
       "version_major": 2,
       "version_minor": 0
      },
      "text/plain": [
       "Downloading:   0%|          | 0.00/428 [00:00<?, ?B/s]"
      ]
     },
     "metadata": {},
     "output_type": "display_data"
    },
    {
     "name": "stderr",
     "output_type": "stream",
     "text": [
      "/usr/local/lib/python3.7/dist-packages/transformers/configuration_utils.py:337: UserWarning: Passing `gradient_checkpointing` to a config initialization is deprecated and will be removed in v5 Transformers. Using `model.gradient_checkpointing_enable()` instead, or if you are using the `Trainer` API, pass `gradient_checkpointing=True` in your `TrainingArguments`.\n",
      "  \"Passing `gradient_checkpointing` to a config initialization is deprecated and will be removed in v5 \"\n"
     ]
    },
    {
     "data": {
      "application/vnd.jupyter.widget-view+json": {
       "model_id": "b8e2b871818f4aa392637b7a1e6a8e44",
       "version_major": 2,
       "version_minor": 0
      },
      "text/plain": [
       "Downloading:   0%|          | 0.00/243k [00:00<?, ?B/s]"
      ]
     },
     "metadata": {},
     "output_type": "display_data"
    },
    {
     "data": {
      "application/vnd.jupyter.widget-view+json": {
       "model_id": "16e88d55c3a7429da4e7dca00fc671d9",
       "version_major": 2,
       "version_minor": 0
      },
      "text/plain": [
       "Downloading:   0%|          | 0.00/125 [00:00<?, ?B/s]"
      ]
     },
     "metadata": {},
     "output_type": "display_data"
    }
   ],
   "source": [
    "tokenizer = AutoTokenizer.from_pretrained('klue/bert-base')"
   ]
  },
  {
   "cell_type": "markdown",
   "metadata": {
    "id": "7UOvVcgJNN0U"
   },
   "source": [
    "토큰화 결과 보기"
   ]
  },
  {
   "cell_type": "code",
   "execution_count": 12,
   "metadata": {
    "colab": {
     "base_uri": "https://localhost:8080/"
    },
    "executionInfo": {
     "elapsed": 9,
     "status": "ok",
     "timestamp": 1632796216794,
     "user": {
      "displayName": "김보석",
      "photoUrl": "https://lh3.googleusercontent.com/a-/AOh14Gjn9RdJkJIesGDUmE8JTZrRsciTZIupvfj7xz1LvA=s64",
      "userId": "08969752424908754753"
     },
     "user_tz": -540
    },
    "id": "S2xxlmcRNPdi",
    "outputId": "66a5af38-b120-424b-f672-e2c9898fcc82"
   },
   "outputs": [
    {
     "data": {
      "text/plain": [
       "{'input_ids': [2, 168, 30985, 14451, 7088, 4586, 169, 793, 8373, 14113, 2234, 2052, 1363, 2088, 29830, 2116, 14879, 2440, 6711, 170, 21406, 26713, 2076, 25145, 5749, 171, 1421, 818, 2073, 4388, 2062, 18, 3, 0, 0, 0, 0, 0, 0, 0, 0, 0, 0, 0, 0, 0, 0, 0, 0, 0, 0, 0, 0, 0, 0, 0, 0, 0, 0, 0, 0, 0, 0, 0, 0, 0, 0, 0, 0, 0, 0, 0, 0, 0, 0, 0, 0, 0, 0, 0, 0, 0, 0, 0, 0, 0, 0, 0, 0, 0, 0, 0, 0, 0, 0, 0, 0, 0, 0, 0, 0, 0, 0, 0, 0, 0, 0, 0, 0, 0, 0, 0, 0, 0, 0, 0, 0, 0, 0, 0, 0, 0, 0, 0, 0, 0, 0, 0], 'token_type_ids': [0, 0, 0, 0, 0, 0, 0, 0, 0, 0, 0, 0, 0, 0, 0, 0, 0, 0, 0, 0, 0, 0, 0, 0, 0, 0, 0, 0, 0, 0, 0, 0, 0, 0, 0, 0, 0, 0, 0, 0, 0, 0, 0, 0, 0, 0, 0, 0, 0, 0, 0, 0, 0, 0, 0, 0, 0, 0, 0, 0, 0, 0, 0, 0, 0, 0, 0, 0, 0, 0, 0, 0, 0, 0, 0, 0, 0, 0, 0, 0, 0, 0, 0, 0, 0, 0, 0, 0, 0, 0, 0, 0, 0, 0, 0, 0, 0, 0, 0, 0, 0, 0, 0, 0, 0, 0, 0, 0, 0, 0, 0, 0, 0, 0, 0, 0, 0, 0, 0, 0, 0, 0, 0, 0, 0, 0, 0, 0], 'attention_mask': [1, 1, 1, 1, 1, 1, 1, 1, 1, 1, 1, 1, 1, 1, 1, 1, 1, 1, 1, 1, 1, 1, 1, 1, 1, 1, 1, 1, 1, 1, 1, 1, 1, 0, 0, 0, 0, 0, 0, 0, 0, 0, 0, 0, 0, 0, 0, 0, 0, 0, 0, 0, 0, 0, 0, 0, 0, 0, 0, 0, 0, 0, 0, 0, 0, 0, 0, 0, 0, 0, 0, 0, 0, 0, 0, 0, 0, 0, 0, 0, 0, 0, 0, 0, 0, 0, 0, 0, 0, 0, 0, 0, 0, 0, 0, 0, 0, 0, 0, 0, 0, 0, 0, 0, 0, 0, 0, 0, 0, 0, 0, 0, 0, 0, 0, 0, 0, 0, 0, 0, 0, 0, 0, 0, 0, 0, 0, 0]}"
      ]
     },
     "execution_count": 12,
     "metadata": {},
     "output_type": "execute_result"
    }
   ],
   "source": [
    "ex_encoding = tokenizer(dataset['train'][0]['sentence'],\n",
    "                        max_length=128,\n",
    "                        padding='max_length',\n",
    "                        truncation=True)\n",
    "ex_encoding"
   ]
  },
  {
   "cell_type": "markdown",
   "metadata": {
    "id": "alien-crack"
   },
   "source": [
    "## token 추가하기\n",
    "sentence에 추가한 subject, object 토큰들을 토크나이저에 등록해야 해당 token들이 일반 문자로 인식되지 않고 token화 되지도 않습니다.\n",
    "\n",
    "\n",
    "1. 모든 경우의 타입들 저장"
   ]
  },
  {
   "cell_type": "code",
   "execution_count": 13,
   "metadata": {
    "colab": {
     "base_uri": "https://localhost:8080/"
    },
    "executionInfo": {
     "elapsed": 13462,
     "status": "ok",
     "timestamp": 1632796231174,
     "user": {
      "displayName": "김보석",
      "photoUrl": "https://lh3.googleusercontent.com/a-/AOh14Gjn9RdJkJIesGDUmE8JTZrRsciTZIupvfj7xz1LvA=s64",
      "userId": "08969752424908754753"
     },
     "user_tz": -540
    },
    "id": "XZXpjmqsNVE4",
    "outputId": "a3f3df76-c035-46de-ba01-b6db9273bf29"
   },
   "outputs": [
    {
     "data": {
      "text/plain": [
       "['S-ORG',\n",
       " 'O-ORG',\n",
       " 'S-PER',\n",
       " 'O-PER',\n",
       " 'S-DAT',\n",
       " 'O-DAT',\n",
       " 'S-LOC',\n",
       " 'O-LOC',\n",
       " 'S-POH',\n",
       " 'O-POH',\n",
       " 'S-NOH',\n",
       " 'O-NOH']"
      ]
     },
     "execution_count": 13,
     "metadata": {},
     "output_type": "execute_result"
    }
   ],
   "source": [
    "#train\n",
    "types = []\n",
    "for i in range(32470):\n",
    "    if dataset['train'][i]['subject_entity']['type'] not in types:\n",
    "        types.append(dataset['train'][i]['subject_entity']['type'])\n",
    "    \n",
    "    if dataset['train'][i]['object_entity']['type'] not in types:\n",
    "        types.append(dataset['train'][i]['object_entity']['type'])\n",
    "\n",
    "#validation\n",
    "for i in range(7765):\n",
    "    if dataset['validation'][i]['subject_entity']['type'] not in types:\n",
    "        types.append(dataset['validation'][i]['subject_entity']['type'])\n",
    "    \n",
    "    if dataset['validation'][i]['object_entity']['type'] not in types:\n",
    "        types.append(dataset['validation'][i]['object_entity']['type'])\n",
    "\n",
    "entity_types = []\n",
    "\n",
    "for i in types:\n",
    "    entity_types.append('S-' + str(i))\n",
    "    entity_types.append('O-' + str(i))\n",
    "\n",
    "entity_types"
   ]
  },
  {
   "cell_type": "markdown",
   "metadata": {
    "id": "fDbSSpCaNZIx"
   },
   "source": [
    "entity type : ORG, PER, DAT, LOC, POH, NOH\n",
    "\n",
    "각각의 타입들을 subject, object로 변환하면, 최종적으로 12개의 type tokens 생성됩니다."
   ]
  },
  {
   "cell_type": "markdown",
   "metadata": {
    "id": "IjsRwh5sNbTp"
   },
   "source": [
    "2. 타입 토큰 추가"
   ]
  },
  {
   "cell_type": "code",
   "execution_count": 15,
   "metadata": {
    "executionInfo": {
     "elapsed": 242,
     "status": "ok",
     "timestamp": 1632796236728,
     "user": {
      "displayName": "김보석",
      "photoUrl": "https://lh3.googleusercontent.com/a-/AOh14Gjn9RdJkJIesGDUmE8JTZrRsciTZIupvfj7xz1LvA=s64",
      "userId": "08969752424908754753"
     },
     "user_tz": -540
    },
    "id": "prime-weekend"
   },
   "outputs": [],
   "source": [
    "new_enrollment_tokens = {'additional_special_tokens': entity_types}\n",
    "enrollment_tokens = tokenizer.add_special_tokens(new_enrollment_tokens)"
   ]
  },
  {
   "cell_type": "markdown",
   "metadata": {
    "id": "assigned-photograph"
   },
   "source": [
    "# 04 Data Loader\n",
    "학습에 사용하는 데이터셋과 데이터 로더 만들기"
   ]
  },
  {
   "cell_type": "markdown",
   "metadata": {
    "id": "6mRNGkA6Nkdc"
   },
   "source": [
    "학습 setting 값 설정"
   ]
  },
  {
   "cell_type": "code",
   "execution_count": 16,
   "metadata": {
    "executionInfo": {
     "elapsed": 238,
     "status": "ok",
     "timestamp": 1632796241617,
     "user": {
      "displayName": "김보석",
      "photoUrl": "https://lh3.googleusercontent.com/a-/AOh14Gjn9RdJkJIesGDUmE8JTZrRsciTZIupvfj7xz1LvA=s64",
      "userId": "08969752424908754753"
     },
     "user_tz": -540
    },
    "id": "blessed-albuquerque"
   },
   "outputs": [],
   "source": [
    "#dataLoader \n",
    "batch_size = 8\n",
    "\n",
    "# model\n",
    "num_labels = 30\n",
    "\n",
    "# train\n",
    "learning_rate = 1e-5\n",
    "weight_decay = 0.0"
   ]
  },
  {
   "cell_type": "markdown",
   "metadata": {
    "id": "SIZR_VyJNqlE"
   },
   "source": [
    "setting 값 설명\n",
    "* batch_size : 데이터 로더 생성시 필요한 배치 사이즈 설정\n",
    "* num_labels : 모델 불러올때 필요한 label 개수\n",
    "* learning_rate : 학습시의 학습률\n",
    "* weight_decay : Weight가 커질경우에 대한 패널티 항목"
   ]
  },
  {
   "cell_type": "markdown",
   "metadata": {
    "id": "modified-grammar"
   },
   "source": [
    "### 학습 데이터셋과 데이터로더 만들기"
   ]
  },
  {
   "cell_type": "code",
   "execution_count": 17,
   "metadata": {
    "executionInfo": {
     "elapsed": 7057,
     "status": "ok",
     "timestamp": 1632796251493,
     "user": {
      "displayName": "김보석",
      "photoUrl": "https://lh3.googleusercontent.com/a-/AOh14Gjn9RdJkJIesGDUmE8JTZrRsciTZIupvfj7xz1LvA=s64",
      "userId": "08969752424908754753"
     },
     "user_tz": -540
    },
    "id": "illegal-cincinnati"
   },
   "outputs": [],
   "source": [
    "class makeDataset(torch.utils.data.Dataset):\n",
    "    def __init__(self, tokenizer, sentences, labels, max_length=128):\n",
    "        self.encodings = tokenizer(sentences,\n",
    "                                   max_length=max_length,\n",
    "                                   padding='max_length',\n",
    "                                   truncation=True)\n",
    "        self.labels = labels\n",
    "    \n",
    "    def __getitem__(self, idx):\n",
    "        item = {k: torch.tensor(v[idx]) for k, v in self.encodings.items()}\n",
    "        item['labels'] = self.labels[idx]\n",
    "        return item\n",
    "    \n",
    "    def __len__(self):\n",
    "        return len(self.labels)\n",
    "\n",
    "train_dataset = makeDataset(tokenizer, train_sentences, train_labels)\n",
    "val_dataset = makeDataset(tokenizer, val_sentences, val_labels)\n",
    "\n",
    "train_loader = DataLoader(train_dataset, batch_size=batch_size, shuffle=True)\n",
    "val_loader = DataLoader(val_dataset, batch_size=batch_size, shuffle=True)"
   ]
  },
  {
   "cell_type": "markdown",
   "metadata": {
    "id": "nuclear-thomas"
   },
   "source": [
    "# 05 Fine-tuning\n",
    "KLUE-RE task 중 Pretrained model 을 사용하여 fine-tuning을 합니다."
   ]
  },
  {
   "cell_type": "markdown",
   "metadata": {
    "id": "qYjzcRpFN2FK"
   },
   "source": [
    "## Model load¶\n",
    "Pretrained model을 다운 받아 fine tuning 을 진행합니다. RE task는 분류와 관련한 task 이므로 , AutoModelForSequenceClassification 클래스를 사용하며, 이때는 label 개수에 대한 설정이 필요합니다."
   ]
  },
  {
   "cell_type": "code",
   "execution_count": 19,
   "metadata": {
    "colab": {
     "base_uri": "https://localhost:8080/",
     "height": 191,
     "referenced_widgets": [
      "a792d66b9fd541d5b7c80e82746ed62a",
      "31867aa4423e4b03b1bd0dc169008b3c",
      "b1d54e7ebf4648e48ef21a83bb753589",
      "c27c1f4bd39c4a59928f923c1177f326",
      "fda7b1ee462e4a26ad7eb2d5bfb7a9cd",
      "b653626f364f4ae1b97a328929333a09",
      "7e0e701620b94dfd8ed3e4c7f50833e0",
      "c2c8a301d4cf4ff3823566838df1740b",
      "058178ca579b4a3fb9c26315c2e70044",
      "ddba4ecf8de74f79a4e86580db547075",
      "12a7960872a1472381817182bec896ca"
     ]
    },
    "executionInfo": {
     "elapsed": 24068,
     "status": "ok",
     "timestamp": 1632796294957,
     "user": {
      "displayName": "김보석",
      "photoUrl": "https://lh3.googleusercontent.com/a-/AOh14Gjn9RdJkJIesGDUmE8JTZrRsciTZIupvfj7xz1LvA=s64",
      "userId": "08969752424908754753"
     },
     "user_tz": -540
    },
    "id": "recreational-monitoring",
    "outputId": "810718e5-3d64-42af-c306-912125c9eab8"
   },
   "outputs": [
    {
     "name": "stderr",
     "output_type": "stream",
     "text": [
      "/usr/local/lib/python3.7/dist-packages/transformers/configuration_utils.py:337: UserWarning: Passing `gradient_checkpointing` to a config initialization is deprecated and will be removed in v5 Transformers. Using `model.gradient_checkpointing_enable()` instead, or if you are using the `Trainer` API, pass `gradient_checkpointing=True` in your `TrainingArguments`.\n",
      "  \"Passing `gradient_checkpointing` to a config initialization is deprecated and will be removed in v5 \"\n"
     ]
    },
    {
     "data": {
      "application/vnd.jupyter.widget-view+json": {
       "model_id": "a792d66b9fd541d5b7c80e82746ed62a",
       "version_major": 2,
       "version_minor": 0
      },
      "text/plain": [
       "Downloading:   0%|          | 0.00/424M [00:00<?, ?B/s]"
      ]
     },
     "metadata": {},
     "output_type": "display_data"
    },
    {
     "name": "stderr",
     "output_type": "stream",
     "text": [
      "Some weights of the model checkpoint at klue/bert-base were not used when initializing BertForSequenceClassification: ['cls.predictions.transform.dense.bias', 'cls.seq_relationship.weight', 'cls.predictions.bias', 'cls.predictions.decoder.weight', 'cls.predictions.transform.LayerNorm.weight', 'cls.predictions.transform.dense.weight', 'cls.seq_relationship.bias', 'cls.predictions.decoder.bias', 'cls.predictions.transform.LayerNorm.bias']\n",
      "- This IS expected if you are initializing BertForSequenceClassification from the checkpoint of a model trained on another task or with another architecture (e.g. initializing a BertForSequenceClassification model from a BertForPreTraining model).\n",
      "- This IS NOT expected if you are initializing BertForSequenceClassification from the checkpoint of a model that you expect to be exactly identical (initializing a BertForSequenceClassification model from a BertForSequenceClassification model).\n",
      "Some weights of BertForSequenceClassification were not initialized from the model checkpoint at klue/bert-base and are newly initialized: ['classifier.bias', 'classifier.weight']\n",
      "You should probably TRAIN this model on a down-stream task to be able to use it for predictions and inference.\n"
     ]
    }
   ],
   "source": [
    "model = AutoModelForSequenceClassification.from_pretrained(model, num_labels=num_labels).to(device)"
   ]
  },
  {
   "cell_type": "code",
   "execution_count": 20,
   "metadata": {
    "colab": {
     "base_uri": "https://localhost:8080/"
    },
    "executionInfo": {
     "elapsed": 24,
     "status": "ok",
     "timestamp": 1632796294958,
     "user": {
      "displayName": "김보석",
      "photoUrl": "https://lh3.googleusercontent.com/a-/AOh14Gjn9RdJkJIesGDUmE8JTZrRsciTZIupvfj7xz1LvA=s64",
      "userId": "08969752424908754753"
     },
     "user_tz": -540
    },
    "id": "MimwoUWxN3u_",
    "outputId": "f1d86746-ce45-4c98-c468-b5b1e107c56c"
   },
   "outputs": [
    {
     "data": {
      "text/plain": [
       "BertForSequenceClassification(\n",
       "  (bert): BertModel(\n",
       "    (embeddings): BertEmbeddings(\n",
       "      (word_embeddings): Embedding(32000, 768, padding_idx=0)\n",
       "      (position_embeddings): Embedding(512, 768)\n",
       "      (token_type_embeddings): Embedding(2, 768)\n",
       "      (LayerNorm): LayerNorm((768,), eps=1e-12, elementwise_affine=True)\n",
       "      (dropout): Dropout(p=0.1, inplace=False)\n",
       "    )\n",
       "    (encoder): BertEncoder(\n",
       "      (layer): ModuleList(\n",
       "        (0): BertLayer(\n",
       "          (attention): BertAttention(\n",
       "            (self): BertSelfAttention(\n",
       "              (query): Linear(in_features=768, out_features=768, bias=True)\n",
       "              (key): Linear(in_features=768, out_features=768, bias=True)\n",
       "              (value): Linear(in_features=768, out_features=768, bias=True)\n",
       "              (dropout): Dropout(p=0.1, inplace=False)\n",
       "            )\n",
       "            (output): BertSelfOutput(\n",
       "              (dense): Linear(in_features=768, out_features=768, bias=True)\n",
       "              (LayerNorm): LayerNorm((768,), eps=1e-12, elementwise_affine=True)\n",
       "              (dropout): Dropout(p=0.1, inplace=False)\n",
       "            )\n",
       "          )\n",
       "          (intermediate): BertIntermediate(\n",
       "            (dense): Linear(in_features=768, out_features=3072, bias=True)\n",
       "          )\n",
       "          (output): BertOutput(\n",
       "            (dense): Linear(in_features=3072, out_features=768, bias=True)\n",
       "            (LayerNorm): LayerNorm((768,), eps=1e-12, elementwise_affine=True)\n",
       "            (dropout): Dropout(p=0.1, inplace=False)\n",
       "          )\n",
       "        )\n",
       "        (1): BertLayer(\n",
       "          (attention): BertAttention(\n",
       "            (self): BertSelfAttention(\n",
       "              (query): Linear(in_features=768, out_features=768, bias=True)\n",
       "              (key): Linear(in_features=768, out_features=768, bias=True)\n",
       "              (value): Linear(in_features=768, out_features=768, bias=True)\n",
       "              (dropout): Dropout(p=0.1, inplace=False)\n",
       "            )\n",
       "            (output): BertSelfOutput(\n",
       "              (dense): Linear(in_features=768, out_features=768, bias=True)\n",
       "              (LayerNorm): LayerNorm((768,), eps=1e-12, elementwise_affine=True)\n",
       "              (dropout): Dropout(p=0.1, inplace=False)\n",
       "            )\n",
       "          )\n",
       "          (intermediate): BertIntermediate(\n",
       "            (dense): Linear(in_features=768, out_features=3072, bias=True)\n",
       "          )\n",
       "          (output): BertOutput(\n",
       "            (dense): Linear(in_features=3072, out_features=768, bias=True)\n",
       "            (LayerNorm): LayerNorm((768,), eps=1e-12, elementwise_affine=True)\n",
       "            (dropout): Dropout(p=0.1, inplace=False)\n",
       "          )\n",
       "        )\n",
       "        (2): BertLayer(\n",
       "          (attention): BertAttention(\n",
       "            (self): BertSelfAttention(\n",
       "              (query): Linear(in_features=768, out_features=768, bias=True)\n",
       "              (key): Linear(in_features=768, out_features=768, bias=True)\n",
       "              (value): Linear(in_features=768, out_features=768, bias=True)\n",
       "              (dropout): Dropout(p=0.1, inplace=False)\n",
       "            )\n",
       "            (output): BertSelfOutput(\n",
       "              (dense): Linear(in_features=768, out_features=768, bias=True)\n",
       "              (LayerNorm): LayerNorm((768,), eps=1e-12, elementwise_affine=True)\n",
       "              (dropout): Dropout(p=0.1, inplace=False)\n",
       "            )\n",
       "          )\n",
       "          (intermediate): BertIntermediate(\n",
       "            (dense): Linear(in_features=768, out_features=3072, bias=True)\n",
       "          )\n",
       "          (output): BertOutput(\n",
       "            (dense): Linear(in_features=3072, out_features=768, bias=True)\n",
       "            (LayerNorm): LayerNorm((768,), eps=1e-12, elementwise_affine=True)\n",
       "            (dropout): Dropout(p=0.1, inplace=False)\n",
       "          )\n",
       "        )\n",
       "        (3): BertLayer(\n",
       "          (attention): BertAttention(\n",
       "            (self): BertSelfAttention(\n",
       "              (query): Linear(in_features=768, out_features=768, bias=True)\n",
       "              (key): Linear(in_features=768, out_features=768, bias=True)\n",
       "              (value): Linear(in_features=768, out_features=768, bias=True)\n",
       "              (dropout): Dropout(p=0.1, inplace=False)\n",
       "            )\n",
       "            (output): BertSelfOutput(\n",
       "              (dense): Linear(in_features=768, out_features=768, bias=True)\n",
       "              (LayerNorm): LayerNorm((768,), eps=1e-12, elementwise_affine=True)\n",
       "              (dropout): Dropout(p=0.1, inplace=False)\n",
       "            )\n",
       "          )\n",
       "          (intermediate): BertIntermediate(\n",
       "            (dense): Linear(in_features=768, out_features=3072, bias=True)\n",
       "          )\n",
       "          (output): BertOutput(\n",
       "            (dense): Linear(in_features=3072, out_features=768, bias=True)\n",
       "            (LayerNorm): LayerNorm((768,), eps=1e-12, elementwise_affine=True)\n",
       "            (dropout): Dropout(p=0.1, inplace=False)\n",
       "          )\n",
       "        )\n",
       "        (4): BertLayer(\n",
       "          (attention): BertAttention(\n",
       "            (self): BertSelfAttention(\n",
       "              (query): Linear(in_features=768, out_features=768, bias=True)\n",
       "              (key): Linear(in_features=768, out_features=768, bias=True)\n",
       "              (value): Linear(in_features=768, out_features=768, bias=True)\n",
       "              (dropout): Dropout(p=0.1, inplace=False)\n",
       "            )\n",
       "            (output): BertSelfOutput(\n",
       "              (dense): Linear(in_features=768, out_features=768, bias=True)\n",
       "              (LayerNorm): LayerNorm((768,), eps=1e-12, elementwise_affine=True)\n",
       "              (dropout): Dropout(p=0.1, inplace=False)\n",
       "            )\n",
       "          )\n",
       "          (intermediate): BertIntermediate(\n",
       "            (dense): Linear(in_features=768, out_features=3072, bias=True)\n",
       "          )\n",
       "          (output): BertOutput(\n",
       "            (dense): Linear(in_features=3072, out_features=768, bias=True)\n",
       "            (LayerNorm): LayerNorm((768,), eps=1e-12, elementwise_affine=True)\n",
       "            (dropout): Dropout(p=0.1, inplace=False)\n",
       "          )\n",
       "        )\n",
       "        (5): BertLayer(\n",
       "          (attention): BertAttention(\n",
       "            (self): BertSelfAttention(\n",
       "              (query): Linear(in_features=768, out_features=768, bias=True)\n",
       "              (key): Linear(in_features=768, out_features=768, bias=True)\n",
       "              (value): Linear(in_features=768, out_features=768, bias=True)\n",
       "              (dropout): Dropout(p=0.1, inplace=False)\n",
       "            )\n",
       "            (output): BertSelfOutput(\n",
       "              (dense): Linear(in_features=768, out_features=768, bias=True)\n",
       "              (LayerNorm): LayerNorm((768,), eps=1e-12, elementwise_affine=True)\n",
       "              (dropout): Dropout(p=0.1, inplace=False)\n",
       "            )\n",
       "          )\n",
       "          (intermediate): BertIntermediate(\n",
       "            (dense): Linear(in_features=768, out_features=3072, bias=True)\n",
       "          )\n",
       "          (output): BertOutput(\n",
       "            (dense): Linear(in_features=3072, out_features=768, bias=True)\n",
       "            (LayerNorm): LayerNorm((768,), eps=1e-12, elementwise_affine=True)\n",
       "            (dropout): Dropout(p=0.1, inplace=False)\n",
       "          )\n",
       "        )\n",
       "        (6): BertLayer(\n",
       "          (attention): BertAttention(\n",
       "            (self): BertSelfAttention(\n",
       "              (query): Linear(in_features=768, out_features=768, bias=True)\n",
       "              (key): Linear(in_features=768, out_features=768, bias=True)\n",
       "              (value): Linear(in_features=768, out_features=768, bias=True)\n",
       "              (dropout): Dropout(p=0.1, inplace=False)\n",
       "            )\n",
       "            (output): BertSelfOutput(\n",
       "              (dense): Linear(in_features=768, out_features=768, bias=True)\n",
       "              (LayerNorm): LayerNorm((768,), eps=1e-12, elementwise_affine=True)\n",
       "              (dropout): Dropout(p=0.1, inplace=False)\n",
       "            )\n",
       "          )\n",
       "          (intermediate): BertIntermediate(\n",
       "            (dense): Linear(in_features=768, out_features=3072, bias=True)\n",
       "          )\n",
       "          (output): BertOutput(\n",
       "            (dense): Linear(in_features=3072, out_features=768, bias=True)\n",
       "            (LayerNorm): LayerNorm((768,), eps=1e-12, elementwise_affine=True)\n",
       "            (dropout): Dropout(p=0.1, inplace=False)\n",
       "          )\n",
       "        )\n",
       "        (7): BertLayer(\n",
       "          (attention): BertAttention(\n",
       "            (self): BertSelfAttention(\n",
       "              (query): Linear(in_features=768, out_features=768, bias=True)\n",
       "              (key): Linear(in_features=768, out_features=768, bias=True)\n",
       "              (value): Linear(in_features=768, out_features=768, bias=True)\n",
       "              (dropout): Dropout(p=0.1, inplace=False)\n",
       "            )\n",
       "            (output): BertSelfOutput(\n",
       "              (dense): Linear(in_features=768, out_features=768, bias=True)\n",
       "              (LayerNorm): LayerNorm((768,), eps=1e-12, elementwise_affine=True)\n",
       "              (dropout): Dropout(p=0.1, inplace=False)\n",
       "            )\n",
       "          )\n",
       "          (intermediate): BertIntermediate(\n",
       "            (dense): Linear(in_features=768, out_features=3072, bias=True)\n",
       "          )\n",
       "          (output): BertOutput(\n",
       "            (dense): Linear(in_features=3072, out_features=768, bias=True)\n",
       "            (LayerNorm): LayerNorm((768,), eps=1e-12, elementwise_affine=True)\n",
       "            (dropout): Dropout(p=0.1, inplace=False)\n",
       "          )\n",
       "        )\n",
       "        (8): BertLayer(\n",
       "          (attention): BertAttention(\n",
       "            (self): BertSelfAttention(\n",
       "              (query): Linear(in_features=768, out_features=768, bias=True)\n",
       "              (key): Linear(in_features=768, out_features=768, bias=True)\n",
       "              (value): Linear(in_features=768, out_features=768, bias=True)\n",
       "              (dropout): Dropout(p=0.1, inplace=False)\n",
       "            )\n",
       "            (output): BertSelfOutput(\n",
       "              (dense): Linear(in_features=768, out_features=768, bias=True)\n",
       "              (LayerNorm): LayerNorm((768,), eps=1e-12, elementwise_affine=True)\n",
       "              (dropout): Dropout(p=0.1, inplace=False)\n",
       "            )\n",
       "          )\n",
       "          (intermediate): BertIntermediate(\n",
       "            (dense): Linear(in_features=768, out_features=3072, bias=True)\n",
       "          )\n",
       "          (output): BertOutput(\n",
       "            (dense): Linear(in_features=3072, out_features=768, bias=True)\n",
       "            (LayerNorm): LayerNorm((768,), eps=1e-12, elementwise_affine=True)\n",
       "            (dropout): Dropout(p=0.1, inplace=False)\n",
       "          )\n",
       "        )\n",
       "        (9): BertLayer(\n",
       "          (attention): BertAttention(\n",
       "            (self): BertSelfAttention(\n",
       "              (query): Linear(in_features=768, out_features=768, bias=True)\n",
       "              (key): Linear(in_features=768, out_features=768, bias=True)\n",
       "              (value): Linear(in_features=768, out_features=768, bias=True)\n",
       "              (dropout): Dropout(p=0.1, inplace=False)\n",
       "            )\n",
       "            (output): BertSelfOutput(\n",
       "              (dense): Linear(in_features=768, out_features=768, bias=True)\n",
       "              (LayerNorm): LayerNorm((768,), eps=1e-12, elementwise_affine=True)\n",
       "              (dropout): Dropout(p=0.1, inplace=False)\n",
       "            )\n",
       "          )\n",
       "          (intermediate): BertIntermediate(\n",
       "            (dense): Linear(in_features=768, out_features=3072, bias=True)\n",
       "          )\n",
       "          (output): BertOutput(\n",
       "            (dense): Linear(in_features=3072, out_features=768, bias=True)\n",
       "            (LayerNorm): LayerNorm((768,), eps=1e-12, elementwise_affine=True)\n",
       "            (dropout): Dropout(p=0.1, inplace=False)\n",
       "          )\n",
       "        )\n",
       "        (10): BertLayer(\n",
       "          (attention): BertAttention(\n",
       "            (self): BertSelfAttention(\n",
       "              (query): Linear(in_features=768, out_features=768, bias=True)\n",
       "              (key): Linear(in_features=768, out_features=768, bias=True)\n",
       "              (value): Linear(in_features=768, out_features=768, bias=True)\n",
       "              (dropout): Dropout(p=0.1, inplace=False)\n",
       "            )\n",
       "            (output): BertSelfOutput(\n",
       "              (dense): Linear(in_features=768, out_features=768, bias=True)\n",
       "              (LayerNorm): LayerNorm((768,), eps=1e-12, elementwise_affine=True)\n",
       "              (dropout): Dropout(p=0.1, inplace=False)\n",
       "            )\n",
       "          )\n",
       "          (intermediate): BertIntermediate(\n",
       "            (dense): Linear(in_features=768, out_features=3072, bias=True)\n",
       "          )\n",
       "          (output): BertOutput(\n",
       "            (dense): Linear(in_features=3072, out_features=768, bias=True)\n",
       "            (LayerNorm): LayerNorm((768,), eps=1e-12, elementwise_affine=True)\n",
       "            (dropout): Dropout(p=0.1, inplace=False)\n",
       "          )\n",
       "        )\n",
       "        (11): BertLayer(\n",
       "          (attention): BertAttention(\n",
       "            (self): BertSelfAttention(\n",
       "              (query): Linear(in_features=768, out_features=768, bias=True)\n",
       "              (key): Linear(in_features=768, out_features=768, bias=True)\n",
       "              (value): Linear(in_features=768, out_features=768, bias=True)\n",
       "              (dropout): Dropout(p=0.1, inplace=False)\n",
       "            )\n",
       "            (output): BertSelfOutput(\n",
       "              (dense): Linear(in_features=768, out_features=768, bias=True)\n",
       "              (LayerNorm): LayerNorm((768,), eps=1e-12, elementwise_affine=True)\n",
       "              (dropout): Dropout(p=0.1, inplace=False)\n",
       "            )\n",
       "          )\n",
       "          (intermediate): BertIntermediate(\n",
       "            (dense): Linear(in_features=768, out_features=3072, bias=True)\n",
       "          )\n",
       "          (output): BertOutput(\n",
       "            (dense): Linear(in_features=3072, out_features=768, bias=True)\n",
       "            (LayerNorm): LayerNorm((768,), eps=1e-12, elementwise_affine=True)\n",
       "            (dropout): Dropout(p=0.1, inplace=False)\n",
       "          )\n",
       "        )\n",
       "      )\n",
       "    )\n",
       "    (pooler): BertPooler(\n",
       "      (dense): Linear(in_features=768, out_features=768, bias=True)\n",
       "      (activation): Tanh()\n",
       "    )\n",
       "  )\n",
       "  (dropout): Dropout(p=0.1, inplace=False)\n",
       "  (classifier): Linear(in_features=768, out_features=30, bias=True)\n",
       ")"
      ]
     },
     "execution_count": 20,
     "metadata": {},
     "output_type": "execute_result"
    }
   ],
   "source": [
    "model"
   ]
  },
  {
   "cell_type": "markdown",
   "metadata": {
    "id": "subtle-attachment"
   },
   "source": [
    "##Embedding Layer을 resize¶\n",
    "Bert에는 토큰들의 id에 따른 임베딩 값을 반환하는 Embedding Layer가 존재합니다.\n",
    "\n",
    "하지만 불러온 Embedding Layer에는 추가한 타입 토큰에 대한 정보가 반영 안된 상태여서 추가한 토큰들이 입력으로 주어질 경우 index error가 발생합니다.\n",
    "\n",
    "따라서 Bert의 Embedding Layer를 input 차원이 32000에서 32012로 추가한 토큰 12만큼 증가하도록 resize합니다."
   ]
  },
  {
   "cell_type": "code",
   "execution_count": 21,
   "metadata": {
    "colab": {
     "base_uri": "https://localhost:8080/"
    },
    "executionInfo": {
     "elapsed": 395,
     "status": "ok",
     "timestamp": 1632796295335,
     "user": {
      "displayName": "김보석",
      "photoUrl": "https://lh3.googleusercontent.com/a-/AOh14Gjn9RdJkJIesGDUmE8JTZrRsciTZIupvfj7xz1LvA=s64",
      "userId": "08969752424908754753"
     },
     "user_tz": -540
    },
    "id": "quality-management",
    "outputId": "5afacfe8-1d74-4c75-fb08-384ced11e7aa"
   },
   "outputs": [
    {
     "data": {
      "text/plain": [
       "Embedding(32016, 768)"
      ]
     },
     "execution_count": 21,
     "metadata": {},
     "output_type": "execute_result"
    }
   ],
   "source": [
    "model.resize_token_embeddings(len(tokenizer))"
   ]
  },
  {
   "cell_type": "markdown",
   "metadata": {
    "id": "applied-ethnic"
   },
   "source": [
    "학습 시의 Loss, Accuracy 계산 및 저장을 간단하게 하기 위해 AverageMeter를 클래스를 이용합니다."
   ]
  },
  {
   "cell_type": "code",
   "execution_count": 22,
   "metadata": {
    "executionInfo": {
     "elapsed": 5,
     "status": "ok",
     "timestamp": 1632796295336,
     "user": {
      "displayName": "김보석",
      "photoUrl": "https://lh3.googleusercontent.com/a-/AOh14Gjn9RdJkJIesGDUmE8JTZrRsciTZIupvfj7xz1LvA=s64",
      "userId": "08969752424908754753"
     },
     "user_tz": -540
    },
    "id": "general-lawrence"
   },
   "outputs": [],
   "source": [
    "class AverageMeter():\n",
    "    def __init__(self):\n",
    "        self.val = 0\n",
    "        self.avg = 0\n",
    "        self.sum = 0\n",
    "        self.count = 0\n",
    "\n",
    "    def update(self, val, n=1):\n",
    "        self.val = val\n",
    "        self.sum += val * n\n",
    "        self.count += n\n",
    "        self.avg = self.sum / self.count"
   ]
  },
  {
   "cell_type": "markdown",
   "metadata": {
    "id": "federal-attack"
   },
   "source": [
    "### model fine-tuning\n",
    "BERT-base 모델을 fine-tuning합니다.\n"
   ]
  },
  {
   "cell_type": "code",
   "execution_count": null,
   "metadata": {
    "colab": {
     "base_uri": "https://localhost:8080/"
    },
    "executionInfo": {
     "elapsed": 1749997,
     "status": "ok",
     "timestamp": 1631517760388,
     "user": {
      "displayName": "김보석",
      "photoUrl": "https://lh3.googleusercontent.com/a/default-user=s64",
      "userId": "08969752424908754753"
     },
     "user_tz": -540
    },
    "id": "assisted-doctor",
    "outputId": "f88cb18a-3547-43af-d606-ba623748130c"
   },
   "outputs": [
    {
     "name": "stdout",
     "output_type": "stream",
     "text": [
      "< Epoch 1 / 1 >\n"
     ]
    },
    {
     "name": "stderr",
     "output_type": "stream",
     "text": [
      "100%|██████████| 4059/4059 [27:03<00:00,  2.50it/s]\n",
      "100%|██████████| 971/971 [02:04<00:00,  7.81it/s]"
     ]
    },
    {
     "name": "stdout",
     "output_type": "stream",
     "text": [
      "train_loss: 0.5199, train_acc: 0.8220, val_loss: 0.7974, val_acc: 0.7378\n",
      "====================================================================================================\n"
     ]
    },
    {
     "name": "stderr",
     "output_type": "stream",
     "text": [
      "\n"
     ]
    }
   ],
   "source": [
    "def train_model(data_loader, model, criterion, optimizer, train=True):\n",
    "    loss_save = AverageMeter()\n",
    "    acc_save = AverageMeter()\n",
    "    \n",
    "    # progress bar 생성\n",
    "    for _, batch in tqdm(enumerate(data_loader), total=len(data_loader)):\n",
    "        inputs = {\n",
    "            'input_ids': batch['input_ids'].to(device),\n",
    "            'token_type_ids': batch['token_type_ids'].to(device),\n",
    "            'attention_mask': batch['attention_mask'].to(device),\n",
    "        }\n",
    "        labels = batch['labels'].to(device)\n",
    "        \n",
    "        optimizer.zero_grad()\n",
    "        outputs = model(**inputs)\n",
    "        logits = outputs['logits']\n",
    "        \n",
    "        loss = criterion(logits, labels)\n",
    "\n",
    "        if train:\n",
    "            loss.backward()\n",
    "            optimizer.step()\n",
    "        \n",
    "        preds = torch.argmax(logits, dim=1)\n",
    "        acc = ((preds == labels).sum().item() / labels.shape[0])\n",
    "        \n",
    "        loss_save.update(loss, labels.shape[0])\n",
    "        acc_save.update(acc, labels.shape[0])\n",
    "        \n",
    "    results = {\n",
    "        'loss': loss_save.avg,\n",
    "        'acc': acc_save.avg,\n",
    "    }\n",
    "    \n",
    "    return results\n",
    "        \n",
    "\n",
    "epochs = 1\n",
    "\n",
    "# loss function, optimizer 설정\n",
    "criterion = nn.CrossEntropyLoss()\n",
    "optimizer = AdamW(model.parameters(), lr=learning_rate, weight_decay=weight_decay)\n",
    "\n",
    "for epoch in range(epochs):\n",
    "    print(f'< Epoch {epoch+1} / {epochs} >')\n",
    "    \n",
    "    # Train\n",
    "    model.train()\n",
    "    train_results = train_model(train_loader, model, criterion, optimizer)\n",
    "    train_loss, train_acc = train_results['loss'], train_results['acc']\n",
    "    \n",
    "    # Validation\n",
    "    with torch.no_grad():\n",
    "        model.eval()\n",
    "        \n",
    "        val_results = train_model(val_loader, model, criterion, optimizer, False)\n",
    "        val_loss, val_acc = val_results['loss'], val_results['acc']\n",
    "    \n",
    "    \n",
    "    print(f'train_loss: {train_loss:.4f}, train_acc: {train_acc:.4f}, val_loss: {val_loss:.4f}, val_acc: {val_acc:.4f}')\n",
    "    print('=' * 100)"
   ]
  },
  {
   "cell_type": "markdown",
   "metadata": {
    "id": "relevant-freight"
   },
   "source": [
    "# 06 Test\n",
    "\n",
    "결과를 확인 해봅니다."
   ]
  },
  {
   "cell_type": "code",
   "execution_count": null,
   "metadata": {
    "colab": {
     "base_uri": "https://localhost:8080/"
    },
    "executionInfo": {
     "elapsed": 864,
     "status": "ok",
     "timestamp": 1631520576939,
     "user": {
      "displayName": "김보석",
      "photoUrl": "https://lh3.googleusercontent.com/a/default-user=s64",
      "userId": "08969752424908754753"
     },
     "user_tz": -540
    },
    "id": "PnA0hecfMRfA",
    "outputId": "8067d7b9-0b22-40b9-cb2a-0d815fdd17dc"
   },
   "outputs": [
    {
     "name": "stdout",
     "output_type": "stream",
     "text": [
      "label : 0, 추측 값 : tensor([0], device='cuda:0')\n",
      "label : 0, 추측 값 : tensor([0], device='cuda:0')\n",
      "label : 0, 추측 값 : tensor([0], device='cuda:0')\n",
      "label : 0, 추측 값 : tensor([10], device='cuda:0')\n",
      "label : 0, 추측 값 : tensor([0], device='cuda:0')\n",
      "label : 0, 추측 값 : tensor([0], device='cuda:0')\n",
      "label : 18, 추측 값 : tensor([18], device='cuda:0')\n",
      "label : 17, 추측 값 : tensor([17], device='cuda:0')\n",
      "label : 0, 추측 값 : tensor([0], device='cuda:0')\n",
      "label : 10, 추측 값 : tensor([10], device='cuda:0')\n",
      "label : 10, 추측 값 : tensor([0], device='cuda:0')\n",
      "label : 0, 추측 값 : tensor([0], device='cuda:0')\n",
      "label : 6, 추측 값 : tensor([0], device='cuda:0')\n",
      "label : 3, 추측 값 : tensor([3], device='cuda:0')\n",
      "label : 8, 추측 값 : tensor([8], device='cuda:0')\n",
      "label : 0, 추측 값 : tensor([0], device='cuda:0')\n",
      "label : 29, 추측 값 : tensor([29], device='cuda:0')\n",
      "label : 0, 추측 값 : tensor([0], device='cuda:0')\n",
      "label : 0, 추측 값 : tensor([0], device='cuda:0')\n",
      "label : 18, 추측 값 : tensor([18], device='cuda:0')\n"
     ]
    }
   ],
   "source": [
    "for i in range(20):\n",
    "    val = encoding = tokenizer(val_sentences[i], max_length=128, padding='max_length', truncation=True, return_tensors='pt')\n",
    "    val_input = {\n",
    "    'input_ids': val['input_ids'].to(device),\n",
    "    'token_type_ids': val['token_type_ids'].to(device),\n",
    "    'attention_mask': val['attention_mask'].to(device),\n",
    "    }\n",
    "    model.eval()\n",
    "    output = model(**val_input)\n",
    "    label = torch.argmax(output['logits'], dim=1)\n",
    "    print('label : ' + str(val_labels[i]) + ', 추측 값 : ' + str(label))"
   ]
  },
  {
   "cell_type": "markdown",
   "metadata": {
    "id": "N-nInA4BOPdh"
   },
   "source": [
    "처음 20개의 validation 데이터 비교시 3개를 제외한 데이터들이 일치했습니다"
   ]
  },
  {
   "cell_type": "markdown",
   "metadata": {
    "id": "spread-wedding"
   },
   "source": [
    "## F1 score로 모델 평가하기"
   ]
  },
  {
   "cell_type": "code",
   "execution_count": null,
   "metadata": {
    "id": "identical-steps"
   },
   "outputs": [],
   "source": [
    "def calc_f1_score(preds, labels):\n",
    "    preds_relation = []\n",
    "    labels_relation = []\n",
    "    \n",
    "    for pred, label in zip(preds, labels):\n",
    "        preds_relation.append(pred)\n",
    "        labels_relation.append(label)\n",
    "\n",
    "    f1_score = sklearn.metrics.f1_score(labels_relation, preds_relation, average='micro', zero_division=1)\n",
    "    \n",
    "    return f1_score * 100"
   ]
  },
  {
   "cell_type": "code",
   "execution_count": null,
   "metadata": {
    "colab": {
     "base_uri": "https://localhost:8080/"
    },
    "executionInfo": {
     "elapsed": 120131,
     "status": "ok",
     "timestamp": 1631520896036,
     "user": {
      "displayName": "김보석",
      "photoUrl": "https://lh3.googleusercontent.com/a/default-user=s64",
      "userId": "08969752424908754753"
     },
     "user_tz": -540
    },
    "id": "divided-workstation",
    "outputId": "94249873-fa66-4490-94b0-5cef90748015"
   },
   "outputs": [
    {
     "name": "stderr",
     "output_type": "stream",
     "text": [
      "100%|██████████| 971/971 [02:00<00:00,  8.09it/s]\n"
     ]
    }
   ],
   "source": [
    "with torch.no_grad():\n",
    "    model.eval()\n",
    "    \n",
    "    label_all = []\n",
    "    pred_all = []\n",
    "    for batch in tqdm(val_loader):\n",
    "        inputs = {\n",
    "            'input_ids': batch['input_ids'].to(device),\n",
    "            'token_type_ids': batch['token_type_ids'].to(device),\n",
    "            'attention_mask': batch['attention_mask'].to(device),\n",
    "        }\n",
    "        labels = batch['labels'].to(device)\n",
    "        \n",
    "        outputs = model(**inputs)\n",
    "        logits = outputs['logits']\n",
    "        \n",
    "        preds = torch.argmax(logits, dim=1)\n",
    "        \n",
    "        label_all.extend(labels.detach().cpu().numpy().tolist())\n",
    "        pred_all.extend(preds.detach().cpu().numpy().tolist())\n",
    "    \n",
    "    f1_score = calc_f1_score(label_all, pred_all)"
   ]
  },
  {
   "cell_type": "markdown",
   "metadata": {
    "id": "greenhouse-residence"
   },
   "source": [
    "F1 score : 73.7797"
   ]
  },
  {
   "cell_type": "code",
   "execution_count": null,
   "metadata": {
    "colab": {
     "base_uri": "https://localhost:8080/"
    },
    "executionInfo": {
     "elapsed": 218,
     "status": "ok",
     "timestamp": 1631520933260,
     "user": {
      "displayName": "김보석",
      "photoUrl": "https://lh3.googleusercontent.com/a/default-user=s64",
      "userId": "08969752424908754753"
     },
     "user_tz": -540
    },
    "id": "civilian-costa",
    "outputId": "cd9040fe-3550-4457-8b75-062a99a857b4"
   },
   "outputs": [
    {
     "data": {
      "text/plain": [
       "73.77978106889891"
      ]
     },
     "execution_count": 80,
     "metadata": {},
     "output_type": "execute_result"
    }
   ],
   "source": [
    "f1_score"
   ]
  }
 ],
 "metadata": {
  "accelerator": "GPU",
  "colab": {
   "collapsed_sections": [],
   "name": "Relation_extraction-1.ipynb",
   "provenance": []
  },
  "kernelspec": {
   "display_name": "Python 3",
   "language": "python",
   "name": "python3"
  },
  "language_info": {
   "codemirror_mode": {
    "name": "ipython",
    "version": 3
   },
   "file_extension": ".py",
   "mimetype": "text/x-python",
   "name": "python",
   "nbconvert_exporter": "python",
   "pygments_lexer": "ipython3",
   "version": "3.7.9"
  }
 },
 "nbformat": 4,
 "nbformat_minor": 5
}
