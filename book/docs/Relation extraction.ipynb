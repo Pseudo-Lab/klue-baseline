{
 "cells": [
  {
   "cell_type": "markdown",
   "metadata": {},
   "source": [
    "# Relation extraction\n",
    "\n",
    "- 본 자료는 가짜연구소 3기 KLUE 로 모델 평가하기 크루 활동으로 작성되었습니다.\n",
    "- 공식 KLUE 자료를 참고하여 진행되었습니다.\n",
    "    - [klue 홈페이지 (공식)](https://klue-benchmark.com/)\n",
    "    - [klue github (공식)](https://github.com/KLUE-benchmark/KLUE-baseline)\n",
    "    \n",
    "---"
   ]
  },
  {
   "cell_type": "markdown",
   "metadata": {},
   "source": [
    "## KLUE-RE task\n",
    "\n",
    "    \n",
    "---"
   ]
  },
  {
   "cell_type": "markdown",
   "metadata": {},
   "source": [
    "## Notebook List\n",
    "\n",
    "| Index | Task                       | Topic                                           | 담당자                                | 작성일   |\n",
    "| ----- | -------------------------- | ----------------------------------------------- | ------------------------------------- | -------- |\n",
    "| 05-1  | Relation extraction |   | [김보석](https://github.com/BOSOEK) | 21-09-15 |\n",
    "| 05-2  | Relation extraction |   |  [이승미](https://github.com/krorina1013) | 21-09-15 |\n",
    "\n",
    "\n",
    "\n"
   ]
  },
  {
   "cell_type": "code",
   "execution_count": null,
   "metadata": {},
   "outputs": [],
   "source": []
  }
 ],
 "metadata": {
  "kernelspec": {
   "display_name": "Python 3",
   "language": "python",
   "name": "python3"
  },
  "language_info": {
   "codemirror_mode": {
    "name": "ipython",
    "version": 3
   },
   "file_extension": ".py",
   "mimetype": "text/x-python",
   "name": "python",
   "nbconvert_exporter": "python",
   "pygments_lexer": "ipython3",
   "version": "3.7.9"
  }
 },
 "nbformat": 4,
 "nbformat_minor": 4
}
