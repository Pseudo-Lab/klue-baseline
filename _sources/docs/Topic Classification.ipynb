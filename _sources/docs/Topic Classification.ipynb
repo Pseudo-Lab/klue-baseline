{
 "cells": [
  {
   "cell_type": "markdown",
   "metadata": {
    "id": "g3Jf1X08cwim"
   },
   "source": [
    "# YNAT(Topic Classification)"
   ]
  },
  {
   "cell_type": "markdown",
   "metadata": {},
   "source": [
    "- 본 자료는 가짜연구소 3기 KLUE 로 모델 평가하기 크루 활동으로 작성되었습니다.\n",
    "- 공식 KLUE 자료를 참고하여 진행되었습니다.\n",
    "    - [klue 홈페이지 (공식)](https://klue-benchmark.com/)\n",
    "    - [klue github (공식)](https://github.com/KLUE-benchmark/KLUE-baseline)\n",
    "    \n",
    "---"
   ]
  },
  {
   "cell_type": "markdown",
   "metadata": {},
   "source": [
    "## YNAT task\n",
    "- 목표 : 주어진 뉴스 표제(Headline)가 어떤 토픽(TopicP) __정치/경제/사회/생활문화/세계/IT과학/스포츠__에 속하는지 분류\n",
    "- 데이터 구성 : 2016년 12월 ~ 2020년 12월 네이버 뉴스에 게제된 연합뉴스 기자의 표제 70,000개 중 '정치/경제/사회/생활문화/세계/IT과학/스포츠'에 속한 표제를 각 토픽별로 고르게 추출, 개인정보 포함 문장 또는 분류 불가나 편견 및 혐오표현 문장을 제외한 63,892개의 문장으로 구성\n",
    "- label: 정치/경제/사회/생활문화/세계/IT과학/스포츠\n",
    "- train/val/test : 45,678 / 9,107 / 9,107 \n",
    "    \n",
    "---"
   ]
  },
  {
   "cell_type": "markdown",
   "metadata": {
    "id": "R6TQOXU_YQcP"
   },
   "source": [
    "## Notebook List\n",
    "\n",
    "| Index | Task                       | Topic                                           | 담당자                                | 작성일   |\n",
    "| ----- | -------------------------- | ----------------------------------------------- | ------------------------------------- | -------- |\n",
    "| 01-1  | YNAT(Topic Classification) | HuggingFace Hub 을 활용한 Fine tuning Baseline | [김대웅](https://github.com/KimDaeUng) | 21-08-25 |\n",
    "\n",
    "\n",
    "\n"
   ]
  },
  {
   "cell_type": "code",
   "execution_count": null,
   "metadata": {
    "id": "FzZfIrKZ8TEK"
   },
   "outputs": [],
   "source": []
  }
 ],
 "metadata": {
  "accelerator": "GPU",
  "colab": {
   "collapsed_sections": [],
   "machine_shape": "hm",
   "name": "Topic Classification(YNAT).ipynb",
   "private_outputs": true,
   "provenance": [
    {
     "file_id": "1KW8yollm0AkfydDFrLPoVfEijaMDbYKC",
     "timestamp": 1628006403000
    },
    {
     "file_id": "https://github.com/Pseudo-Lab/klue-baseline/blob/main/TIL/TC_huggingface-klue.ipynb",
     "timestamp": 1628001475437
    }
   ],
   "toc_visible": true
  },
  "kernelspec": {
   "display_name": "Python 3",
   "language": "python",
   "name": "python3"
  },
  "language_info": {
   "codemirror_mode": {
    "name": "ipython",
    "version": 3
   },
   "file_extension": ".py",
   "mimetype": "text/x-python",
   "name": "python",
   "nbconvert_exporter": "python",
   "pygments_lexer": "ipython3",
   "version": "3.7.9"
  }
 },
 "nbformat": 4,
 "nbformat_minor": 1
}
