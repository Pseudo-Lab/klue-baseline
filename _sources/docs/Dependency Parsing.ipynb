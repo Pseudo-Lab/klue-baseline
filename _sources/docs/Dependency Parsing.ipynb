{
 "cells": [
  {
   "cell_type": "markdown",
   "metadata": {},
   "source": [
    "# Dependency Parsing"
   ]
  },
  {
   "cell_type": "markdown",
   "metadata": {
    "id": "FIn3kBxh_LRI"
   },
   "source": [
    "- 본 자료는 가짜연구소 3기 KLUE 로 모델 평가하기 크루 활동으로 작성되었습니다.\n",
    "- 공식 KLUE 자료를 참고하여 진행되었습니다.\n",
    "    - [klue 홈페이지 (공식)](https://klue-benchmark.com/)\n",
    "    - [klue github (공식)](https://github.com/KLUE-benchmark/KLUE-baseline)\n",
    "    \n",
    "---"
   ]
  },
  {
   "cell_type": "markdown",
   "metadata": {
    "id": "bSrQ1ilX-alU"
   },
   "source": [
    "## KLUE-DP task\n",
    "\n",
    "- 목표 : 문장에 나타나는 단어들의 지배소와 의존소 관계를 예측하고, 관계의 종류를 분류(문자열 태깅 형식)\n",
    "- 데이터 구성 : 위키트리, 에어비엔비에서 조건에 부합하는 10000개의 학습 데이터 셋을 추출, 총 14500 개의 데이터 셋으로 구성\n",
    "- 평가지표 :\n",
    "  - UAS : Arc(두 단어 간 관계 정보)의 정확도를 평가\n",
    "  - LAS : Arc 와 Label 을 모두 평가\n",
    "- label : 크게 아래의 표와 같이 분류되며, 자세한 내용은 [KLUE 논문](https://arxiv.org/pdf/2105.09680.pdf) 참조\n",
    "\n",
    "| 분류     | Label | 의미                                 |\n",
    "| -------- | ----- | ------------------------------------ |\n",
    "| Syntax   | NP    | Noun Phrase                          |\n",
    "| Syntax   | VP    | Verb Phrase                          |\n",
    "| Syntax   | AP    | Adverb Phrase                        |\n",
    "| Syntax   | VNP   | Copula Phrase                        |\n",
    "| Syntax   | DP    | Adnoun Phrase                        |\n",
    "| Syntax   | IP    | Interjection Phrase                  |\n",
    "| Syntax   | X     | Pseudo Phrase                        |\n",
    "| Syntax   | L     | Left Parenthesis and Quotation Mark  |\n",
    "| Syntax   | R     | Right Parenthesis and Quotation Mark |\n",
    "| Function | SBJ   | Subject                              |\n",
    "| Function | OBJ   | Object                               |\n",
    "| Function | MOD   | Noun Modifier                        |\n",
    "| Function | AJT   | Predicate Modifier                   |\n",
    "| Function | CMP   | Complement                           |\n",
    "| Function | CNJ   | Conjunction                          |\n",
    "\n",
    "\n",
    "\n",
    "\n",
    "    \n",
    "---"
   ]
  },
  {
   "cell_type": "markdown",
   "metadata": {},
   "source": [
    "## Notebook List\n",
    "\n",
    "| Index | Task                       | Topic                                           | 담당자                                | 작성일   |\n",
    "| ----- | -------------------------- | ----------------------------------------------- | ------------------------------------- | -------- |\n",
    "| 06-1  | Dependency Parsing | pytorch Lightning 적응기 | [권지현](https://github.com/Jihyun22) | 21-09-08 |\n",
    "\n",
    "\n",
    "\n"
   ]
  },
  {
   "cell_type": "code",
   "execution_count": null,
   "metadata": {},
   "outputs": [],
   "source": []
  }
 ],
 "metadata": {
  "kernelspec": {
   "display_name": "Python 3",
   "language": "python",
   "name": "python3"
  },
  "language_info": {
   "codemirror_mode": {
    "name": "ipython",
    "version": 3
   },
   "file_extension": ".py",
   "mimetype": "text/x-python",
   "name": "python",
   "nbconvert_exporter": "python",
   "pygments_lexer": "ipython3",
   "version": "3.7.9"
  }
 },
 "nbformat": 4,
 "nbformat_minor": 4
}
