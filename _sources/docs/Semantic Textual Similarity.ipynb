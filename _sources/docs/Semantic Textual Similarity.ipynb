{
 "cells": [
  {
   "cell_type": "markdown",
   "metadata": {
    "id": "g3Jf1X08cwim"
   },
   "source": [
    "# Semantic Textual Similarity"
   ]
  },
  {
   "cell_type": "markdown",
   "metadata": {},
   "source": [
    "- 본 자료는 가짜연구소 3기 KLUE 로 모델 평가하기 크루 활동으로 작성되었습니다.\n",
    "- 공식 KLUE 자료를 참고하여 진행되었습니다.\n",
    "    - [klue 홈페이지 (공식)](https://klue-benchmark.com/)\n",
    "    - [klue github (공식)](https://github.com/KLUE-benchmark/KLUE-baseline)\n",
    "    \n",
    "---"
   ]
  },
  {
   "cell_type": "markdown",
   "metadata": {},
   "source": [
    "## STS task\n",
    "\n",
    "- **목표** : 두 문장의 의미 유사도(Semantic Similarity)를 0 (유사하지 않음) ~ 5 (매우 유사함) 점으로 예측함\n",
    "\n",
    "- **데이터 구성** : 에어비앤비 리뷰(리뷰 도메인), 정책 브리핑(뉴스 도메인), ParaKQC(스마트스피커 도메인)에서 유사한 문장들(3 ~ 5점 분포)과 유사하지 않은 문장들(0~ 3점 분포)을 추출 혹은 생성\n",
    "\n",
    "- **label**:\n",
    "  - real-label: 0 ~ 5 의 실수값\n",
    "  - label: 0(유사하지 않음), 1(유사함)\n",
    "\n",
    "- **train/val/test** : 11,668 /\t519\t1,037\n",
    "\n",
    "---"
   ]
  },
  {
   "cell_type": "markdown",
   "metadata": {
    "id": "R6TQOXU_YQcP"
   },
   "source": [
    "## Notebook List\n",
    "\n",
    "| Index | Task                       | Topic                                           | 담당자                                | 작성일   |\n",
    "| ----- | -------------------------- | ----------------------------------------------- | ------------------------------------- | -------- |\n",
    "| 02-1  | STS | HuggingFace Hub 을 활용한 Fine tuning Baseline | [김대웅](https://github.com/KimDaeUng) | 21-09-08 |\n",
    "\n",
    "\n",
    "\n"
   ]
  },
  {
   "cell_type": "code",
   "execution_count": null,
   "metadata": {},
   "outputs": [],
   "source": []
  }
 ],
 "metadata": {
  "kernelspec": {
   "display_name": "Python 3",
   "language": "python",
   "name": "python3"
  },
  "language_info": {
   "codemirror_mode": {
    "name": "ipython",
    "version": 3
   },
   "file_extension": ".py",
   "mimetype": "text/x-python",
   "name": "python",
   "nbconvert_exporter": "python",
   "pygments_lexer": "ipython3",
   "version": "3.7.9"
  }
 },
 "nbformat": 4,
 "nbformat_minor": 4
}
