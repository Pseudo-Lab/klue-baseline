{
 "cells": [
  {
   "cell_type": "markdown",
   "metadata": {},
   "source": [
    "# Named entity recognition"
   ]
  },
  {
   "cell_type": "markdown",
   "metadata": {
    "id": "FIn3kBxh_LRI"
   },
   "source": [
    "- 본 자료는 가짜연구소 3기 KLUE 로 모델 평가하기 크루 활동으로 작성되었습니다.\n",
    "- 공식 KLUE 자료를 참고하여 진행되었습니다.\n",
    "    - [klue 홈페이지 (공식)](https://klue-benchmark.com/)\n",
    "    - [klue github (공식)](https://github.com/KLUE-benchmark/KLUE-baseline)\n",
    "    \n",
    "---"
   ]
  },
  {
   "cell_type": "markdown",
   "metadata": {
    "id": "bSrQ1ilX-alU"
   },
   "source": [
    "## KLUE-NER task\n",
    "\n",
    "- 목표 : 텍스트에서 미리 정의된 6개의 개체명 타입에 대해 개체명의 경계를 탐지하고 해당하는 타입으로 분류\n",
    "- 과제 형식 : 시퀀스 대깅\n",
    "- 데이터 구성 : 위키트리(뉴스 도메인), 네이버 영화 리뷰(리뷰 도메인)\n",
    "- 태깅 방식 : 음절 단위 BIO 스키마\n",
    "- 개채명 타입 : 인물(PS), 장소(LC), 기관(OG), 날짜표현(DT), 시간표현(TI), 수치표현(QT)\n",
    "    \n",
    "---"
   ]
  },
  {
   "cell_type": "markdown",
   "metadata": {},
   "source": [
    "## Notebook List\n",
    "\n",
    "| Index | Task                       | Topic                                           | 담당자                                | 작성일   |\n",
    "| ----- | -------------------------- | ----------------------------------------------- | ------------------------------------- | -------- |\n",
    "| 04-1  | Named entity recognition | KoELECTRA 모델로 fine-tuning 하기 | [전명준](https://github.com/oncores) | 21-09-15 |\n",
    "\n",
    "\n",
    "\n"
   ]
  },
  {
   "cell_type": "code",
   "execution_count": null,
   "metadata": {},
   "outputs": [],
   "source": []
  }
 ],
 "metadata": {
  "kernelspec": {
   "display_name": "Python 3",
   "language": "python",
   "name": "python3"
  },
  "language_info": {
   "codemirror_mode": {
    "name": "ipython",
    "version": 3
   },
   "file_extension": ".py",
   "mimetype": "text/x-python",
   "name": "python",
   "nbconvert_exporter": "python",
   "pygments_lexer": "ipython3",
   "version": "3.7.9"
  }
 },
 "nbformat": 4,
 "nbformat_minor": 4
}
