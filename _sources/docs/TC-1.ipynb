{
 "cells": [
  {
   "cell_type": "markdown",
   "metadata": {
    "id": "g3Jf1X08cwim"
   },
   "source": [
    "# HuggingFace Hub 을 활용한 Fine tuning Baseline\n",
    "\n",
    "\n",
    "- Task : KLUE-YNAT\n",
    "- 담당자: [김대웅](https://github.com/KimDaeUng) 님\n",
    "- 최종수정일: 21-08-25\n",
    "- 본 자료는 가짜연구소 3기 KLUE 로 모델 평가하기 크루 활동으로 작성됨\n",
    "\n",
    "\n",
    "\n",
    "## **이 노트북이 담고 있는 내용**\n",
    "    - HuggingFace Datasets을 활용하여 KLUE 데이터셋 쉽게 전처리하기\n",
    "    - HuggingFace Hub에서 사전학습된 언어 모델을 다운로드 받아 사용하고, 학습한 모델을 업로드하여 공유하기\n",
    "    - `Trainer` 객체를 사용하여 모델 학습 및 평가 & hyperparameter search하기\n",
    "    - [Weights & Biases](https://wandb.ai/)를 활용하여 실험 관리하기  \n",
    "\n",
    "\n",
    "## **앞으로 추가되어야할 내용**\n",
    "    - Pretraining 직접 수행하기\n",
    "        - 학습 코퍼스 수집 및 전처리\n",
    "        - Pre-Tokenizer & Tokenizer\n",
    "        - Pretraining\n",
    "\n",
    "    - Data Augmentation\n",
    "        - [Easy Data Augmentation(EDA)](https://arxiv.org/abs/1901.11196)\n",
    "        - Back Translation\n",
    "        - Summarization\n",
    "    \n",
    "    - Data Imbalance Problem\n",
    "        - `imbalanced-learn` 라이브러리를 활용한 over, under sampling\n",
    "        - Loss function: class weights 설정\n",
    "    \n",
    "    - 더 큰 배치사이즈로 학습하기\n",
    "        - Mixed Precision을 이용한 학습\n",
    "        - Single GPU에서 DeepSpeed 사용\n",
    "\n",
    "    - 더 빠르게 학습하기 \n",
    "        - TPU를 이용한 학습\n",
    "        - Multi-GPU에서 DeepSpeed 사용\n",
    "        \n",
    "---"
   ]
  },
  {
   "cell_type": "markdown",
   "metadata": {
    "id": "_0hopjbCavmV"
   },
   "source": [
    "# 01 Init\n",
    "- KLUE-YNAT task를 다룰 때 필요한 기초적인 환경 설정 방법에 대해 설명합니다.\n",
    "---"
   ]
  },
  {
   "cell_type": "markdown",
   "metadata": {
    "id": "TtroTK8vcwin"
   },
   "source": [
    "## Install packages\n",
    "필요한 패키지를 설치합니다. 본 노트북에서는 3개의 패키지를 새로 설치해야 합니다.\n",
    "\n",
    "transformers : hugging face(관련 페이지 링크) 에서 포팅된 데이터, 모델 등을 불러오기 위해 사용합니다.\n",
    "\n",
    "datasets : hugging face 의 datasets 라이브러리(관련 페이지 링크) 중 load_dataset 매서드를 사용하면 쉽게 데이터를 다운로드 받을 수 있습니다.\n",
    "\n",
    "wandb : 모델 학습 시 log 를 관리하기 위해 “Weight and Biases”(관련 페이지 [링크](https://wandb.ai/site)) 를 사용합니다."
   ]
  },
  {
   "cell_type": "code",
   "execution_count": null,
   "metadata": {
    "id": "a4vjPWpPcwio"
   },
   "outputs": [],
   "source": [
    "!pip install transformers datasets wandb"
   ]
  },
  {
   "cell_type": "markdown",
   "metadata": {
    "id": "5h3Prm6WarsR"
   },
   "source": [
    "본 노트북은 Transformers 4.9.2을 사용합니다."
   ]
  },
  {
   "cell_type": "code",
   "execution_count": null,
   "metadata": {
    "id": "BgXsrVStwQjJ"
   },
   "outputs": [],
   "source": [
    "import transformers\n",
    "print(transformers.__version__)"
   ]
  },
  {
   "cell_type": "markdown",
   "metadata": {
    "id": "nr1vG6DvY-0a"
   },
   "source": [
    "## Login huggingface*\n",
    "huffingface hub를 이용하면 학습한 모델을 온라인 저장소에 올려 쉽게 공유할 수 있습니다. 이를 위해서는 먼저 회원가입이 필요합니다. [여기](https://huggingface.co/join)에서 회원가입을 진행할 수 있습니다. \n",
    "\n",
    "그 다음, 아래 명령어를 실행시켜 Username과 Password를 입력합니다."
   ]
  },
  {
   "cell_type": "code",
   "execution_count": null,
   "metadata": {
    "id": "f1HYD8VXaYQT"
   },
   "outputs": [],
   "source": [
    "!huggingface-cli login"
   ]
  },
  {
   "cell_type": "markdown",
   "metadata": {
    "id": "60b6EPOhaadW"
   },
   "source": [
    "huggingface hub는 대용량 파일을 저장하는 github repository의 개념입니다. 모델 parameter같은 대용량 파일 업로드를 위해 hf-lfs 설치와 git의 사용자 설정이 필요합니다. 이미 git 사용자 정보가 입력 되어있다면 hf-lfs만 설치하시면 됩니다."
   ]
  },
  {
   "cell_type": "code",
   "execution_count": null,
   "metadata": {
    "id": "tVY7od_ZcNv2"
   },
   "outputs": [],
   "source": [
    "!pip install hf-lfs\n",
    "!git config --global user.email eliza.dukim@gmail.com\n",
    "!git config --global user.name KimDaeUng"
   ]
  },
  {
   "cell_type": "code",
   "execution_count": null,
   "metadata": {
    "id": "uSeY2Nae_B60"
   },
   "outputs": [],
   "source": [
    "# argment setting\n",
    "task = \"ynat\"\n",
    "model_checkpoint = \"klue/bert-base\"\n",
    "batch_size = 256"
   ]
  },
  {
   "cell_type": "markdown",
   "metadata": {
    "id": "7KIW8OSKffRA"
   },
   "source": [
    "# 02 Data Loading\n",
    "KLUE-YNAT task를 KLUE github에서 다운로드 받을수도 있지만 huggingface의 datasets 라이브러리를 사용하면 더욱 편리하게 이용할 수 있습니다.\n",
    "\n",
    "---"
   ]
  },
  {
   "cell_type": "markdown",
   "metadata": {
    "id": "2qWo_DQ-e5U5"
   },
   "source": [
    "## Data Download\n",
    "huggingface의 [datasets](https://github.com/huggingface/datasets) 라이브러리를 사용해 데이터를 불러옵니다. `load_dataset`을 이용합니다."
   ]
  },
  {
   "cell_type": "code",
   "execution_count": null,
   "metadata": {
    "id": "xr0G0VaRxCWo"
   },
   "outputs": [],
   "source": [
    "from datasets import load_dataset\n",
    "dataset = load_dataset('klue', 'ynat') # klue 의 task=nil 을 load\n",
    "dataset # dataset 구조 확인"
   ]
  },
  {
   "cell_type": "markdown",
   "metadata": {
    "id": "XoYPZy1YfZwk"
   },
   "source": [
    "## Data view\n",
    "dataset 는 train 셋과 validation 으로 구성되어 있습니다.\n",
    "\n",
    "각각의 set의 구조를 데이터 샘플을 통해 살펴보겠습니다."
   ]
  },
  {
   "cell_type": "code",
   "execution_count": null,
   "metadata": {
    "id": "lMH4GXsixcnU"
   },
   "outputs": [],
   "source": [
    "dataset['train'][0]"
   ]
  },
  {
   "cell_type": "markdown",
   "metadata": {
    "id": "R_OcAlgRf_LU"
   },
   "source": [
    "KLUE TC (YNAT) task dataset 구조는 다음과 같습니다. 자세한 내용은 klue 공식 페이지 [링크](https://github.com/KLUE-benchmark/KLUE/wiki/KLUE-TC-(YNAT)-dataset-description)를 참조바랍니다.\n",
    "  1. 'date' : 뉴스 기사의 발행일\n",
    "  2. 'guid': index, 고유 식별자\n",
    "  3. 'label': 라벨\n",
    "  4. 'title': 뉴스 헤드라인\n",
    "  5. 'url': 뉴스의 url\n",
    "\n",
    "각 column 구성을 임의의 샘플을 추출하여 살펴보겠습니다."
   ]
  },
  {
   "cell_type": "code",
   "execution_count": null,
   "metadata": {
    "id": "oB1tZNz2xvLZ"
   },
   "outputs": [],
   "source": [
    "import datasets\n",
    "import random\n",
    "import pandas as pd\n",
    "from IPython.display import display, HTML\n",
    "\n",
    "def show_random_elements(dataset, num_examples=10):\n",
    "    assert num_examples <= len(dataset), \"Can't pick more elements than there are in the dataset.\"\n",
    "    picks = []\n",
    "    for _ in range(num_examples):\n",
    "        pick = random.randint(0, len(dataset)-1)\n",
    "        while pick in picks:\n",
    "            pick = random.randint(0, len(dataset)-1)\n",
    "        picks.append(pick)\n",
    "    \n",
    "    df = pd.DataFrame(dataset[picks])\n",
    "    for column, typ in dataset.features.items():\n",
    "        if isinstance(typ, datasets.ClassLabel):\n",
    "            df[column] = df[column].transform(lambda i: typ.names[i])\n",
    "    display(HTML(df.to_html()))\n",
    "\n",
    "show_random_elements(dataset[\"train\"])"
   ]
  },
  {
   "cell_type": "markdown",
   "metadata": {
    "id": "ukaqQVFrhFBq"
   },
   "source": [
    "TC (YNAT) task 의 목적은 `title`이 어떤 토픽(Topic)에 속하는지 분류하는 것입니다. 따라서 input 값은 `title`이며 `label` 이 target 값으로 사용됩니다.\n",
    "\n",
    "다음은 데이터 전처리 과정을 살펴보겠습니다.\n",
    "\n",
    "----"
   ]
  },
  {
   "cell_type": "markdown",
   "metadata": {
    "id": "h8v-ZfN2x0ul"
   },
   "source": [
    "# 03 Data Processing\n",
    "KLUE-NLI task 중 Tokenizer를 사용하여 데이터를 인코딩한 후 전처리하는 과정을 설명합니다.\n",
    "\n",
    "---"
   ]
  },
  {
   "cell_type": "markdown",
   "metadata": {
    "id": "0JzQKYd9yWxM"
   },
   "source": [
    "## Tokenizer load\n",
    "전처리를 위해 tokenizer로 데이터를 인코딩하는 과정이 필요합니다. transformers 라이브러리의 tokenizer 모듈을 이용해 모델의 입력 텍스트를 토크나이징하여 모델이 입력받는 포맷으로 변환할 수 있습니다.\n",
    "\n",
    "`AutoTokenizer.from_pretrained`를 이용해 사용하는 모델과 관련된 tokenizer를 가져올 수 있습니다. 따라서 본 노트북에서는 KLUE의 bert base pretrianed model에서 사용된 tokenizer 을 활용하여 포팅된 모델을 사용하여 데이터를 인코딩 하겠습니다."
   ]
  },
  {
   "cell_type": "code",
   "execution_count": null,
   "metadata": {
    "id": "HTKZKDBScwiq"
   },
   "outputs": [],
   "source": [
    "import torch\n",
    "from transformers import AutoTokenizer\n",
    "tokenizer = AutoTokenizer.from_pretrained(model_checkpoint, use_fast=True)"
   ]
  },
  {
   "cell_type": "markdown",
   "metadata": {
    "id": "WyR8D1rDleoU"
   },
   "source": [
    "## Data encoding\n",
    "\n",
    "Tokenizer 는 문장 또는 문장 쌍을 입력하여 데이터에 대한 토크나이징을 수행할 수 있습니다."
   ]
  },
  {
   "cell_type": "code",
   "execution_count": null,
   "metadata": {
    "id": "2E-ntoQp3Pdn"
   },
   "outputs": [],
   "source": [
    "dataset['train'][0]['title']"
   ]
  },
  {
   "cell_type": "code",
   "execution_count": null,
   "metadata": {
    "id": "sQOGpWNJmC8H"
   },
   "outputs": [],
   "source": [
    "tokenizer(dataset['train'][0]['title'])"
   ]
  },
  {
   "cell_type": "code",
   "execution_count": null,
   "metadata": {
    "id": "fVs_2aHAmKw_"
   },
   "outputs": [],
   "source": [
    "tokenizer(dataset['train'][0]['title']).tokens()"
   ]
  },
  {
   "cell_type": "markdown",
   "metadata": {
    "id": "WJtP_8GD3XDx"
   },
   "source": [
    "YNAT task 에서는 `title`을 input으로 사용합니다. tokenizer의 입력값을 고려하여 전처리를 수행할 함수를 정의합니다. `tokenizer`에서 `truncation=True`를 설정하면 모델이 입력 최대 길이를 벗어난 경우 잘라냅니다. "
   ]
  },
  {
   "cell_type": "code",
   "execution_count": null,
   "metadata": {
    "id": "0uhePONB4wFW"
   },
   "outputs": [],
   "source": [
    "def preprocess_function(examples):\n",
    "    return tokenizer(examples['title'], truncation=True)"
   ]
  },
  {
   "cell_type": "markdown",
   "metadata": {
    "id": "Ev8i38AEcwir"
   },
   "source": [
    "이 함수를 전체 데이터셋의 문장에 적용시키기 위해서, `dataset` 객체의 `map` 메서드를 사용합니다. `batched=True` 옵션은 적용되는 함수가 배치형태로 처리가 가능한 함수인 경우에 체크하며, 멀티 쓰레딩을 사용해 텍스트 데이터를 배치 형태로 빠르게 처리할 수 있습니다.  \n",
    "다음으로 hugging face 에 포팅된 Pretrained model 을 load 하여 fine tuning 하는 방법에 대해 다루겠습니다.\n"
   ]
  },
  {
   "cell_type": "code",
   "execution_count": null,
   "metadata": {
    "id": "7zUTd8LW6lZm"
   },
   "outputs": [],
   "source": [
    "encoded_dataset = dataset.map(preprocess_function, batched=True)"
   ]
  },
  {
   "cell_type": "markdown",
   "metadata": {
    "id": "VPRrkeMN9j1s"
   },
   "source": [
    "# 04. Fine-tuning\n",
    "\n",
    "KLUE-NLI task 중 Pretrained model 을 사용하여 fine-tuning 하는 방법에 대해 다루겠습니다.\n",
    "\n",
    "\n",
    "---"
   ]
  },
  {
   "cell_type": "markdown",
   "metadata": {
    "id": "gMp0QgQR9mit"
   },
   "source": [
    "## Model load\n",
    "\n",
    "Pretrained model을 다운 받아 fine tuning 을 진행할 수 있습니다. YNAT task는 분류와 관련한 task 이므로 , `AutoModelForSequenceClassification` 클래스를 사용합니다.\n",
    "\n",
    "이때, label 개수에 대한 설정이 필요합니다."
   ]
  },
  {
   "cell_type": "code",
   "execution_count": null,
   "metadata": {
    "id": "fbn4DB0s-tJg"
   },
   "outputs": [],
   "source": [
    "# YNAT Task의 label 개수: 7\n",
    "dataset['train'].features['label'].num_classes"
   ]
  },
  {
   "cell_type": "markdown",
   "metadata": {
    "id": "pnXMZ4NWBdIB"
   },
   "source": [
    "YNAT task 는 총 7개의 label 로 구성되어 있습니다.\n",
    "\n",
    "다음으로 모델을 불러오겠습니다. KLUE base 모델은 hugging face model hub (관련 사이트 [링크](https://huggingface.co/models)) 에 포팅되어 있으므로 model_checkpoint 경로를 정의하여 불러올 수 있습니다(`model_checkpoint = klue/bert-base` 로 사전 정의됨).\n"
   ]
  },
  {
   "cell_type": "code",
   "execution_count": null,
   "metadata": {
    "id": "BSLzEq2j-pnN"
   },
   "outputs": [],
   "source": [
    "from transformers import AutoModelForSequenceClassification, TrainingArguments, Trainer\n",
    "num_labels = 7 # label 개수는 task 마다 달라질 수 있음\n",
    "model = AutoModelForSequenceClassification.from_pretrained(model_checkpoint,\n",
    "                                                           num_labels=num_labels)"
   ]
  },
  {
   "cell_type": "markdown",
   "metadata": {
    "id": "I672QcRIBlKq"
   },
   "source": [
    "> **\\[참고\\]**경고메시지의 의미\n",
    "- `BertForPreTraining`엔 있지만 `BertForSequenceClassification`엔 없는 레이어는 버리고\n",
    "- `BertForSequenceClassification` 엔 있지만 `BertForPreTraining`엔 없는 레이어는 랜덤 초기화.  \n",
    "- 따라서 `BertForSequenceClassification` 모델을 fine-tune 하지않으면 좋은 성능을 얻지 못 하니 fine-tune해서 써야 한다.[(reference)](https://github.com/huggingface/transformers/issues/5421)"
   ]
  },
  {
   "cell_type": "markdown",
   "metadata": {
    "id": "vTguZQrlEn7g"
   },
   "source": [
    "## Parameter setting\n",
    "HuggingFace 에서는 `Trainer` 객체를 사용하여 학습을 진행합니다. 이때, `Trainer` 객체는 모델 학습을 위해 설정해야 하는 값이 들어있는 클래스인 `TrainingArgument`를 입력받아야 합니다.\n",
    "\n",
    "이번 단계에서는 모델 학습을 위한 trainer 객체를 정의하는 방법에 대해 다루겠습니다.\n"
   ]
  },
  {
   "cell_type": "code",
   "execution_count": null,
   "metadata": {
    "id": "mOSFoNb3FxME"
   },
   "outputs": [],
   "source": [
    "import os\n",
    "\n",
    "model_name = model_checkpoint.split(\"/\")[-1]\n",
    "output_dir = os.path.join(\"test-klue\", \"ynat\") # task 별로 바꿔줄 것\n",
    "logging_dir = os.path.join(output_dir, 'logs')\n",
    "args = TrainingArguments(\n",
    "    # checkpoint, 모델의 checkpoint 가 저장되는 위치\n",
    "    output_dir=output_dir,\n",
    "    overwrite_output_dir=True,\n",
    "\n",
    "    # Model Save & Load\n",
    "    save_strategy = \"epoch\", # 'steps'\n",
    "    load_best_model_at_end=True,\n",
    "    save_steps = 500,\n",
    "\n",
    "\n",
    "    # Dataset, epoch 와 batch_size 선언\n",
    "    num_train_epochs=5,\n",
    "    per_device_train_batch_size=batch_size,\n",
    "    per_device_eval_batch_size=batch_size,\n",
    "    \n",
    "    # Optimizer\n",
    "    learning_rate=2e-5, # 5e-5\n",
    "    weight_decay=0.01,  # 0\n",
    "    # warmup_steps=200,\n",
    "\n",
    "    # Resularization\n",
    "    # max_grad_norm = 1.0,\n",
    "    # label_smoothing_factor=0.1,\n",
    "\n",
    "\n",
    "    # Evaluation \n",
    "    metric_for_best_model='eval_f1', # task 별 평가지표 변경\n",
    "    evaluation_strategy = \"epoch\",\n",
    "\n",
    "    # HuggingFace Hub Upload, 모델 포팅을 위한 인자\n",
    "    push_to_hub=True,\n",
    "    push_to_hub_model_id=f\"{model_name}-finetuned-{task}\",\n",
    "\n",
    "    # Logging, log 기록을 살펴볼 위치, 본 노트북에서는 wandb 를 이용함\n",
    "    logging_dir=logging_dir,\n",
    "    report_to='wandb',\n",
    "\n",
    "    # Randomness, 재현성을 위한 rs 설정\n",
    "    seed=42,\n",
    ")"
   ]
  },
  {
   "cell_type": "markdown",
   "metadata": {
    "id": "sePzW37stoi8"
   },
   "source": [
    "`TrainingArguments` 의 여러 인자 중 필수 인자는 `output_dir` 으로 모델의 checkpoint  가 저장되는 경로를 의미합니다.\n",
    "\n",
    "또한 task 별로 metric 지정이 필요합니다. YNAT task 는 Macro-F1을 평가지표로 사용합니다.\n",
    "다음으로 `trainer` 객체를 정의하겠습니다. 우선 metric 설정이 필요합니다. `datasets` 라이브러리에서 제공하는 evaluation metric의 리스트를 확인하겠습니다."
   ]
  },
  {
   "cell_type": "code",
   "execution_count": null,
   "metadata": {
    "id": "OmnmgX_ZH5GX"
   },
   "outputs": [],
   "source": [
    "# metric list 확인\n",
    "from datasets import list_metrics, load_metric\n",
    "metrics_list = list_metrics()\n",
    "len(metrics_list)\n",
    "print(', '.join(metric for metric in metrics_list))"
   ]
  },
  {
   "cell_type": "markdown",
   "metadata": {
    "id": "cYuOCI2IuMrI"
   },
   "source": [
    "이 중, YNAT 에서는 `f1` 를 사용합니다. 해당 평가지표를 고려하여 metric 계산을 위한 함수를 정의하겠습니다."
   ]
  },
  {
   "cell_type": "code",
   "execution_count": null,
   "metadata": {
    "id": "CEwddI72ICFu"
   },
   "outputs": [],
   "source": [
    "# YNAT의 metric은 F1 score를 사용합니다.\n",
    "metric_macrof1 = load_metric('f1')\n",
    "\n",
    "def compute_metrics(eval_pred):\n",
    "    predictions = eval_pred.predictions.argmax(-1)\n",
    "    labels = eval_pred.label_ids\n",
    "    return metric_macrof1.compute(predictions=predictions,\n",
    "                                  references=labels, average='macro')"
   ]
  },
  {
   "cell_type": "markdown",
   "metadata": {
    "id": "4p1j_jxdu47s"
   },
   "source": [
    "마지막으로 `Trainer` 객체를 정의하겠습니다."
   ]
  },
  {
   "cell_type": "code",
   "execution_count": null,
   "metadata": {
    "id": "8jhJB1NJOv1y"
   },
   "outputs": [],
   "source": [
    "trainer = Trainer(\n",
    "    model,\n",
    "    args,\n",
    "    train_dataset=encoded_dataset[\"train\"],\n",
    "    eval_dataset=encoded_dataset['validation'],\n",
    "    tokenizer=tokenizer,\n",
    "    compute_metrics=compute_metrics,\n",
    ")"
   ]
  },
  {
   "cell_type": "markdown",
   "metadata": {
    "id": "nicbh_BDQNie"
   },
   "source": [
    "앞에서 `tokenizer`를 사용해 전처리를 했음에도 `Trainer`의 입력으로 다시 넣는 이유는 패딩을 적용해서 입력 샘플들을 동일한 길이로 만들기 위해 (데이터 로더의 마지막 과정에서) 사용하기 때문입니다. 모델에 따라 패딩에 대한 기본 설정이 다르기 때문에(왼쪽 패딩, 오른쪽 패딩, 또는 패딩 인덱스 번호 설정 등) `Trainer`는 이와 관련된 작업을 수행할 수 있는 `tokenizer`를 사용합니다.\n",
    "\n",
    "\n",
    "Fine-tuning 을 위한 준비가 완료되었습니다. 다음 단계에서는 fine-tuning 과 training log 를 관리하는 법에 대해 다루겠습니다.\n",
    "\n",
    "---"
   ]
  },
  {
   "cell_type": "markdown",
   "metadata": {
    "id": "ow_TKR6_xNqJ"
   },
   "source": [
    "# 05 Training\n",
    "\n",
    "`Trainer` 객체를 이용하여 모델 학습을 하는 방법과 training log 를 관리하는 방법, 그리고 hyperparameter search 을 통해 모델 성능을 높이는 방법에 대해 다루겠습니다.\n",
    "\n",
    "\n",
    "---"
   ]
  },
  {
   "cell_type": "markdown",
   "metadata": {
    "id": "qfHj86GjXo_u"
   },
   "source": [
    "## Weights & Biases setting\n",
    "\n",
    "huggingface는 모델 학습 로그를 기록할때 Tensorboard 또는 [Weights & Biases](https://wandb.ai/site)를 사용할 수 있습니다. 여기서는 Weights & Biases를 사용하겠습니다.\n",
    "\n",
    "Weights & Biases를 사용하려면 먼저 회원가입이 되어있어야 합니다. 회원가입을 마친 후, https://wandb.ai/authorize 에서 얻은 key를 다음 셀에 입력하면 연동됩니다.\n"
   ]
  },
  {
   "cell_type": "code",
   "execution_count": null,
   "metadata": {
    "id": "6gopWuKmX-0y"
   },
   "outputs": [],
   "source": [
    "import wandb\n",
    "wandb.login()"
   ]
  },
  {
   "cell_type": "markdown",
   "metadata": {
    "id": "VSvgX85vhqUH"
   },
   "source": [
    "실험 관리를 위해서 id값을 생성합니다. id는 각 실험에 부여되는 식별자입니다."
   ]
  },
  {
   "cell_type": "code",
   "execution_count": null,
   "metadata": {
    "id": "TGV1AWK4joZe"
   },
   "outputs": [],
   "source": [
    "id = wandb.util.generate_id()\n",
    "print(id)"
   ]
  },
  {
   "cell_type": "markdown",
   "metadata": {
    "id": "G6rsojnGhwRZ"
   },
   "source": [
    "생성된 id를 붙여 넣으면 `wandb`를 사용할 수 있습니다.\n",
    "> **\\[참고\\]** - project : 실험기록을 관리할 프로젝트 이름. 없을 시 입력받은 이름으로 생성, 여기선 예시로 klue로 설정\n",
    "- entity : weights & biases 사용자명 또는 팀 이름\n",
    "- id : 실험에 부여된 고유 아이디\n",
    "- name : 실험에 부여한 이름\n",
    "- resume : 실험을 재개할 떄, 실험에 부여한 고유 아이디를 입력"
   ]
  },
  {
   "cell_type": "code",
   "execution_count": null,
   "metadata": {
    "id": "HIEHH71FjIBg"
   },
   "outputs": [],
   "source": [
    "wandb.init(project='klue', # 실험기록을 관리한 프로젝트 이름\n",
    "           entity='dukim', # 사용자명 또는 팀 이름\n",
    "           id='3bso6955',  # 실험에 부여된 고유 아이디\n",
    "           name='ynat',    # 실험에 부여한 이름               \n",
    "          )"
   ]
  },
  {
   "cell_type": "markdown",
   "metadata": {
    "id": "WDofSqm307B5"
   },
   "source": [
    "## Training\n",
    "이제 `Trainer` 객체를 사용하여 학습을 진행할 수 있습니다."
   ]
  },
  {
   "cell_type": "code",
   "execution_count": null,
   "metadata": {
    "id": "qbHePuctQB0e"
   },
   "outputs": [],
   "source": [
    "trainer.train()"
   ]
  },
  {
   "cell_type": "markdown",
   "metadata": {
    "id": "-sC63XTQoxhM"
   },
   "source": [
    "학습이 끝나면 `wandb` 도 종료합니다."
   ]
  },
  {
   "cell_type": "code",
   "execution_count": null,
   "metadata": {
    "id": "mPWY7qySirX1"
   },
   "outputs": [],
   "source": [
    "wandb.finish()"
   ]
  },
  {
   "cell_type": "markdown",
   "metadata": {
    "id": "PgY6T3KHkj9_"
   },
   "source": [
    "학습이 완료된 후, `evaluate` 메서드를 사용하여 `Trainer`가 best 모델로 불러온 모델의 성능을 확인해볼 수 있습니다."
   ]
  },
  {
   "cell_type": "code",
   "execution_count": null,
   "metadata": {
    "id": "Q7s_4q6KQEGK"
   },
   "outputs": [],
   "source": [
    "trainer.evaluate()"
   ]
  },
  {
   "cell_type": "markdown",
   "metadata": {
    "id": "49D6jh4okSuK"
   },
   "source": [
    "`push_to_hub()` 메서드를 사용하여 tokenizer를 비롯한 모델을 huggingface hub에 업로드할 수 있습니다."
   ]
  },
  {
   "cell_type": "code",
   "execution_count": null,
   "metadata": {
    "id": "eM70Xrm3kEtT"
   },
   "outputs": [],
   "source": [
    "trainer.push_to_hub()"
   ]
  },
  {
   "cell_type": "markdown",
   "metadata": {
    "id": "2cN9iSYYkL-d"
   },
   "source": [
    "업로드한 모델은 `huggingface hub 사용자 이름/사용자가 지정한 이름`으로 바로 다운로드하여 사용할 수 있습니다."
   ]
  },
  {
   "cell_type": "code",
   "execution_count": null,
   "metadata": {
    "id": "BD3Ol-xTlsCg"
   },
   "outputs": [],
   "source": [
    "from transformers import AutoModelForSequenceClassification\n",
    "# {HuggingFace Model Hub 사용자 아이디}/{push_to_hub_model_id에서 설정한 값}\n",
    "model = AutoModelForSequenceClassification.from_pretrained('eliza-dukim/bert-base-finetuned-ynat', num_labels=num_labels)"
   ]
  },
  {
   "cell_type": "markdown",
   "metadata": {
    "id": "4UqaiJG16-fO"
   },
   "source": [
    "Submission을 위해 모델을 저장합니다."
   ]
  },
  {
   "cell_type": "code",
   "execution_count": null,
   "metadata": {
    "id": "2xHDeFTC7BTj"
   },
   "outputs": [],
   "source": [
    "trainer.save('/test-klue/ynat/model.h5')"
   ]
  },
  {
   "cell_type": "markdown",
   "metadata": {
    "id": "omKHO2F6UGJa"
   },
   "source": [
    "## Hyperparameter search\n",
    "\n",
    "모델의 성능을 높이기 위해 Hyperparameter search를 수행할 수 있습니다. `Trainer` 는  optuna 또는 Ray Tune를 이용한 hyperparameter search를 지원합니다.\n",
    "\n",
    "우선 관련 라이브러리를 설치하겠습니다."
   ]
  },
  {
   "cell_type": "code",
   "execution_count": null,
   "metadata": {
    "id": "i8Z6IdZHg8Su"
   },
   "outputs": [],
   "source": [
    "! pip install optuna\n",
    "! pip install ray[tune]"
   ]
  },
  {
   "cell_type": "markdown",
   "metadata": {
    "id": "Ept8EVG24Sxj"
   },
   "source": [
    "hyperparameter search 동안 `Trainer`는 학습을 여러 번 수행합니다. 따라서 모델이 매 학습마다 다시 초기화 될 수 있도록 모델이 함수에 의해 정의되도록 합니다.\n",
    "\n",
    "모델 초기화 함수를 정의하겠습니다."
   ]
  },
  {
   "cell_type": "code",
   "execution_count": null,
   "metadata": {
    "id": "yLImaMGDmb06"
   },
   "outputs": [],
   "source": [
    "def model_init():\n",
    "    return AutoModelForSequenceClassification.from_pretrained(model_checkpoint, num_labels=num_labels)"
   ]
  },
  {
   "cell_type": "markdown",
   "metadata": {
    "id": "naV2enWU4iNs"
   },
   "source": [
    "모델 초기화 단계를 포함한 `Trainer`를 새롭게 정의하겠습니다. 이때, TrainingArguments 은 위에서 선언한 내용을 그대로 사용합니다.\n",
    "\n",
    "또한 hyperparameter search 과정에서 학습 시 시간이 오래 소요될 수 있습니다. 이 경우, `.shard(index=1, num_shards=10) ` 을 통해 일부 데이터 셋에 대한 hyperparameter 를 탐색할 수 있습니다.\n",
    "\n",
    "num_shards 의 수에 따라 1/10, 1/5 데이터 만을 사용할 수 있습니다. 본 노트북에서는 1/5 데이터셋만 사용하여 hyperparameter 를 탐색하겠습니다. \n",
    "\n",
    "물론, 탐색된 hyperparameter 는 전체 데이터에 대해 학습할 때 적용되어 최종 모델을 정상적으로 학습시킬 수 있습니다."
   ]
  },
  {
   "cell_type": "code",
   "execution_count": null,
   "metadata": {
    "id": "gnvlocXYnBDw"
   },
   "outputs": [],
   "source": [
    "trainer_hps = Trainer(\n",
    "    model_init=model_init,\n",
    "    args=args,\n",
    "    train_dataset=encoded_dataset[\"train\"].shard(index=1, num_shards=10), # 일부 데이터셋만 선택하여 진행 가능\n",
    "    eval_dataset=encoded_dataset['validation'],\n",
    "    tokenizer=tokenizer,\n",
    "    compute_metrics=compute_metrics,\n",
    ")"
   ]
  },
  {
   "cell_type": "markdown",
   "metadata": {
    "id": "-YJO30r84x6h"
   },
   "source": [
    "`Trainer`정의가 완료되었다면, log 기록을 위해 wandb 를 다시 설정합니다. 위의 과정과 동일합니다."
   ]
  },
  {
   "cell_type": "code",
   "execution_count": null,
   "metadata": {
    "id": "wfNKxO_Qrjwl"
   },
   "outputs": [],
   "source": [
    "wandb.init()\n",
    "wandb.login()\n",
    "id = wandb.util.generate_id()\n",
    "print(id)"
   ]
  },
  {
   "cell_type": "markdown",
   "metadata": {
    "id": "DBbZNEeqrjwm"
   },
   "source": [
    "wandb 에서 project 이름을 변경하여 wandb 를 초기화합니다. 아까와는 다르게 실험에 이름을 부여하지 않았는데, 여러번의 실험을 수행하면서 동일한 이름에 덮어씌워지지 않도록 하기 위함입니다."
   ]
  },
  {
   "cell_type": "code",
   "execution_count": null,
   "metadata": {
    "id": "7_UYqiDYrjwm"
   },
   "outputs": [],
   "source": [
    "wandb.init(project='klue', # 실험기록을 관리한 프로젝트 이름\n",
    "           entity='dukim', # 사용자명 또는 팀 이름\n",
    "           id='3bso6955',  # 실험에 부여된 고유 아이디\n",
    "         # name='ynat',  # 실험에 이름을 부여하지 않으면 랜덤으로 생성함\n",
    "          )\n"
   ]
  },
  {
   "cell_type": "markdown",
   "metadata": {
    "id": "627qexNw5m2r"
   },
   "source": [
    "이제 `hyperparameter_search` 메서드를 사용해 hyperparameter search를 수행할 수 있습니다. 이 메서드는 `BestRun` 객체를 반환화는데, 최대화된 objective 값(평가지표값, 본 task에서는 Macro F1)과 이때 선택된 hyperparameter를 포함합니다."
   ]
  },
  {
   "cell_type": "code",
   "execution_count": null,
   "metadata": {
    "id": "i7G1TbbY6Gkz"
   },
   "outputs": [],
   "source": [
    "best_run = trainer_hps.hyperparameter_search(n_trials=5, direction=\"maximize\")"
   ]
  },
  {
   "cell_type": "markdown",
   "metadata": {
    "id": "d4hjaNbI6Jfu"
   },
   "source": [
    "최종 best_run 에서 탐색된 hyperparameter 값은 다음과 같습니다.  여기서 선택된 hyperparameter를 이용해 전체 데이터셋에 대하여 위에서 소개된 절차로 다시 학습을 수행합니다.\n"
   ]
  },
  {
   "cell_type": "code",
   "execution_count": null,
   "metadata": {
    "id": "F9DGDrlM6Kns"
   },
   "outputs": [],
   "source": [
    "best_run"
   ]
  },
  {
   "cell_type": "markdown",
   "metadata": {
    "id": "N1stalKH62Hh"
   },
   "source": [
    "# 06 Submission\n",
    "[작성중]\n",
    "\n",
    "---\n"
   ]
  },
  {
   "cell_type": "code",
   "execution_count": null,
   "metadata": {
    "id": "XEdOIeBO7iJL"
   },
   "outputs": [],
   "source": [
    "import sys\n",
    "# if you have many scripts add this line before you import them\n",
    "sys.path.append('/test-klue/ynat/') "
   ]
  },
  {
   "cell_type": "code",
   "execution_count": null,
   "metadata": {
    "id": "PfislHpR73YC"
   },
   "outputs": [],
   "source": [
    "!tar -czvf submission.tar.gz main.py model.actor.h5"
   ]
  },
  {
   "cell_type": "markdown",
   "metadata": {
    "id": "a-RrYT2I2OeN"
   },
   "source": [
    "# Appendix"
   ]
  },
  {
   "cell_type": "markdown",
   "metadata": {
    "id": "C3FHWz4N6k_D"
   },
   "source": [
    "## 0. `hyperparameter_search` 메서드 자세히 알아보기\n",
    "\n",
    "- `hp_space` : hyperparameter search를 수행할 딕셔너리를 반환하는 함수를 입력받습니다. 값을 설정하지 않을 경우 optuna의 기본값을 사용합니다.\n",
    " - optuna를 사용할 경우:  \n",
    "```python\n",
    "def my_hp_space(trial):\n",
    "        return {\n",
    "            \"learning_rate\": trial.suggest_float(\"learning_rate\", 1e-4, 1e-2, log=True),\n",
    "            \"num_train_epochs\": trial.suggest_int(\"num_train_epochs\", 1, 5),\n",
    "            \"seed\": trial.suggest_int(\"seed\", 1, 40),\n",
    "            \"per_device_train_batch_size\": trial.suggest_categorical(\"per_device_train_batch_size\", [4, 8, 16, 32, 64]),\n",
    "        }\n",
    "```\n",
    " - ray를 사용할 경우:  \n",
    "```python\n",
    "def my_hp_space_ray(trial):\n",
    "        from ray import tune\n",
    "\n",
    "        return {\n",
    "            \"learning_rate\": tune.loguniform(1e-4, 1e-2),\n",
    "            \"num_train_epochs\": tune.choice(range(1, 6)),\n",
    "            \"seed\": tune.choice(range(1, 41)),\n",
    "            \"per_device_train_batch_size\": tune.choice([4, 8, 16, 32, 64]),\n",
    "        }\n",
    "```\n",
    "\n",
    "\n",
    "- `computive_objective` : 최대화하거나 최소화할 목적함수를 받습니다. 기본값으로 모델의 `evaluate` 메서드에 의해 반환되는 metric값(여기선 F1-score)를 사용합니다.\n",
    "    ```python\n",
    "    def my_objective(metrics):\n",
    "        return metrics[\"eval_f1\"]\n",
    "    ```\n",
    "- `n_trials` : 테스트할 실험의 개수를 설정합니다(기본값 100).\n",
    "- `direction` : `computive_objective`값의 최적화의 방향을 정합니다. `'minimize'`(기본값) 또는 `'maximize'`."
   ]
  },
  {
   "cell_type": "markdown",
   "metadata": {
    "id": "Su0d0kcv2X6N"
   },
   "source": [
    "## 1. optuna를 사용한 hyperparameter search code snippet"
   ]
  },
  {
   "cell_type": "markdown",
   "metadata": {
    "id": "tGCByUyY2ebN"
   },
   "source": [
    "```python\n",
    "from sklearn.metrics import precision_recall_fscore_support, accuracy_score\n",
    "\n",
    "def compute_metrics(pred):\n",
    "    labels = pred.label_ids\n",
    "    preds = pred.predictions.argmax(-1)\n",
    "    precision, recall, f1, _ = precision_recall_fscore_support(labels, preds, average='macro')\n",
    "    acc = accuracy_score(labels, preds)\n",
    "    return {\n",
    "        'accuracy': acc,\n",
    "        'f1': f1,\n",
    "        'precision': precision,\n",
    "        'recall': recall\n",
    "    }\n",
    "\n",
    "class MemorySaverCallback(TrainerCallback):\n",
    "    \"A callback that deleted the folder in which checkpoints are saved, to save memory\"\n",
    "    def __init__(self, run_name):\n",
    "        super(MemorySaverCallback, self).__init__()\n",
    "        self.run_name = run_name\n",
    "\n",
    "    def on_train_begin(self, args, state, control, **kwargs):\n",
    "        print(\"Removing dirs...\")\n",
    "        if os.path.isdir(f'./{self.run_name}'):\n",
    "            import shutil\n",
    "            shutil.rmtree(f'./{self.run_name}')\n",
    "        else:\n",
    "            print(\"\\n\\nDirectory does not exists\")\n",
    "\n",
    "training_args = TrainingArguments(\n",
    "    RUN_NAME, \n",
    "    num_train_epochs=15,\n",
    "    per_device_train_batch_size=64,\n",
    "    per_device_eval_batch_size=64,\n",
    "    evaluation_strategy=\"epoch\",\n",
    "    logging_strategy=\"steps\",\n",
    "    logging_steps=1,\n",
    "    logging_first_step=False,\n",
    "    overwrite_output_dir=True,\n",
    "    save_strategy=\"no\",\n",
    "    save_total_limit=1,\n",
    "    load_best_model_at_end=True,\n",
    "    metric_for_best_model=\"eval_f1\",\n",
    ")\n",
    "\n",
    "trainer = Trainer(\n",
    "    model_init=partial(MyNet,2),\n",
    "    args=training_args, \n",
    "    train_dataset=training_opos.select(range(2000)), \n",
    "    eval_dataset=validating_opos,\n",
    "    compute_metrics=compute_metrics,\n",
    "    callbacks=[EarlyStoppingCallback(early_stopping_patience=2), MemorySaverCallback(RUN_NAME)]\n",
    ")\n",
    "\n",
    "def my_hp_space_optuna(trial):\n",
    "    return {\n",
    "        \"learning_rate\": trial.suggest_float(\"learning_rate\", 2e-6, 2e-4, log=True),\n",
    "        \"warmup_steps\":  trial.suggest_float(\"warmup_steps\", 0., 0.9, step=0.3),\n",
    "        \"weight_decay\":  trial.suggest_float(\"weight_decay\", 1e-6, 1e-1)\n",
    "    }\n",
    "def my_objective(metrics):\n",
    "    return metrics[\"eval_f1\"]\n",
    "\n",
    "sa = trainer.hyperparameter_search(\n",
    "    direction=\"maximize\", \n",
    "    n_trials=1,\n",
    "    hp_space=my_hp_space_optuna, \n",
    "    compute_objective=my_objective\n",
    ")\n",
    "```"
   ]
  },
  {
   "cell_type": "markdown",
   "metadata": {
    "id": "5Q9JWRMQ2kR1"
   },
   "source": [
    "# Reference\n",
    "- [Text Classification on GLUE](https://colab.research.google.com/github/huggingface/notebooks/blob/master/examples/text_classification.ipynb#scrollTo=71pt6N0eIrJo)을 KLUE의 주제 분류 데이터셋 YNAT에 맞게 수정 및 번역함.\n",
    "\n",
    "- [HuggingFace Datasets Docs](https://huggingface.co/docs/datasets/index.html)\n",
    "- [HuggingFace Transformers Docs](https://huggingface.co/transformers/index.html)\n",
    "- [Using hyperparameter-search in Trainer](https://discuss.huggingface.co/t/using-hyperparameter-search-in-trainer/785/55)"
   ]
  },
  {
   "cell_type": "code",
   "execution_count": null,
   "metadata": {
    "id": "FzZfIrKZ8TEK"
   },
   "outputs": [],
   "source": []
  }
 ],
 "metadata": {
  "accelerator": "GPU",
  "colab": {
   "collapsed_sections": [],
   "machine_shape": "hm",
   "name": "Topic Classification(YNAT).ipynb",
   "private_outputs": true,
   "provenance": [
    {
     "file_id": "1KW8yollm0AkfydDFrLPoVfEijaMDbYKC",
     "timestamp": 1628006403000
    },
    {
     "file_id": "https://github.com/Pseudo-Lab/klue-baseline/blob/main/TIL/TC_huggingface-klue.ipynb",
     "timestamp": 1628001475437
    }
   ],
   "toc_visible": true
  },
  "kernelspec": {
   "display_name": "Python 3",
   "language": "python",
   "name": "python3"
  },
  "language_info": {
   "codemirror_mode": {
    "name": "ipython",
    "version": 3
   },
   "file_extension": ".py",
   "mimetype": "text/x-python",
   "name": "python",
   "nbconvert_exporter": "python",
   "pygments_lexer": "ipython3",
   "version": "3.7.9"
  }
 },
 "nbformat": 4,
 "nbformat_minor": 1
}
